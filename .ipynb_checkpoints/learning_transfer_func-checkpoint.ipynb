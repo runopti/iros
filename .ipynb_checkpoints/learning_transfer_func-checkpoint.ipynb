{
 "cells": [
  {
   "cell_type": "code",
   "execution_count": 4,
   "metadata": {},
   "outputs": [],
   "source": [
    "import scipy.io as sio\n",
    "import pandas as pd\n",
    "import numpy as np\n",
    "from matplotlib import pyplot as plt\n",
    "import matplotlib\n",
    "from sklearn.neighbors import NearestNeighbors\n",
    "from sklearn.model_selection import train_test_split\n",
    "import pickle\n",
    "import os\n",
    "import time\n",
    "from sklearn.manifold import SpectralEmbedding\n",
    "from sklearn.gaussian_process import GaussianProcessRegressor"
   ]
  },
  {
   "cell_type": "code",
   "execution_count": 5,
   "metadata": {},
   "outputs": [],
   "source": [
    "datapath_base = \"/data/yutaro/IROS/\"\n",
    "datapath_big = \"/data/yutaro/IROS/sim_data_full_v13_d4_m1.mat\"\n",
    "datapath_small = \"/data/yutaro/IROS/sim_data_partial_v13_d4_m1.mat\""
   ]
  },
  {
   "cell_type": "code",
   "execution_count": 6,
   "metadata": {},
   "outputs": [
    {
     "name": "stdout",
     "output_type": "stream",
     "text": [
      "(411151, 10)\n",
      "          0           1          2          3    4    5         6           7  \\\n",
      "0 -0.220820  117.741577  15.969999  15.969999 -1.0 -1.0 -0.200762  117.745787   \n",
      "1 -0.200762  117.745787  15.939999  15.939999 -1.0 -1.0 -0.184196  117.750466   \n",
      "2 -0.184196  117.750466  15.909998  15.909998 -1.0 -1.0 -0.169507  117.755398   \n",
      "3 -0.169507  117.755398  15.879997  15.879997 -1.0 -1.0 -0.156517  117.760427   \n",
      "4 -0.156517  117.760427  15.849998  15.849998 -1.0 -1.0 -0.144677  117.765442   \n",
      "\n",
      "           8          9  \n",
      "0  15.939999  15.939999  \n",
      "1  15.909998  15.909998  \n",
      "2  15.879997  15.879997  \n",
      "3  15.849998  15.849998  \n",
      "4  15.819997  15.819997  \n",
      "(6544, 10)\n",
      "          0           1          2          3    4    5         6           7  \\\n",
      "0 -0.059364  114.428863  15.969999  15.969999 -1.0 -1.0 -0.083693  114.398494   \n",
      "1 -0.083693  114.398494  15.939999  15.939999 -1.0 -1.0 -0.121254  114.377551   \n",
      "2 -0.121254  114.377551  15.909998  15.909998 -1.0 -1.0 -0.137358  114.368394   \n",
      "3 -0.137358  114.368394  15.879997  15.879997 -1.0 -1.0 -0.153154  114.366211   \n",
      "4 -0.153154  114.366211  15.849998  15.849998 -1.0 -1.0 -0.167177  114.388905   \n",
      "\n",
      "           8          9  \n",
      "0  15.939999  15.939999  \n",
      "1  15.909998  15.909998  \n",
      "2  15.879997  15.879997  \n",
      "3  15.849998  15.849998  \n",
      "4  15.819997  15.819997  \n"
     ]
    }
   ],
   "source": [
    "#datapath_big = \"/data/yutaro/IROS/sim_data_full_v11_d4_m1.mat\"\n",
    "#datapath_small = \"/data/yutaro/IROS/sim_data_partial_v111_d4_m1.mat\"\n",
    "\n",
    "big = sio.loadmat(datapath_big)\n",
    "print(big['D'].shape)\n",
    "print(pd.DataFrame(big['D']).head())\n",
    "\n",
    "small = sio.loadmat(datapath_small)\n",
    "print(small['D'].shape)\n",
    "print(pd.DataFrame(small['D']).head())"
   ]
  },
  {
   "cell_type": "code",
   "execution_count": 9,
   "metadata": {},
   "outputs": [
    {
     "name": "stdout",
     "output_type": "stream",
     "text": [
      "CPU times: user 3 µs, sys: 0 ns, total: 3 µs\n",
      "Wall time: 6.91 µs\n"
     ]
    },
    {
     "data": {
      "text/plain": [
       "(array([0., 0., 0., ..., 0., 0., 0.]),\n",
       " array([    0,     1,     2, ..., 83885, 83886, 83887]))"
      ]
     },
     "execution_count": 9,
     "metadata": {},
     "output_type": "execute_result"
    }
   ],
   "source": [
    "% time\n",
    "nearest_neighbor(small['D'], small['D'])"
   ]
  },
  {
   "cell_type": "code",
   "execution_count": 8,
   "metadata": {},
   "outputs": [
    {
     "data": {
      "text/plain": [
       "(83888, 10)"
      ]
     },
     "execution_count": 8,
     "metadata": {},
     "output_type": "execute_result"
    }
   ],
   "source": [
    "small['D'].shape"
   ]
  },
  {
   "cell_type": "code",
   "execution_count": 27,
   "metadata": {},
   "outputs": [
    {
     "data": {
      "text/plain": [
       "(10,)"
      ]
     },
     "execution_count": 27,
     "metadata": {},
     "output_type": "execute_result"
    }
   ],
   "source": [
    "np.mean(small['D'], axis=0).shape"
   ]
  },
  {
   "cell_type": "code",
   "execution_count": 118,
   "metadata": {},
   "outputs": [
    {
     "data": {
      "text/plain": [
       "array([ -0.2007618 , 117.74578691,  15.93999863,  15.93999863])"
      ]
     },
     "execution_count": 118,
     "metadata": {},
     "output_type": "execute_result"
    }
   ],
   "source": [
    "big['D'][0,6:10]"
   ]
  },
  {
   "cell_type": "markdown",
   "metadata": {},
   "source": [
    "### First, divide the dataset into 4 (each set corresponds to each action)"
   ]
  },
  {
   "cell_type": "code",
   "execution_count": 119,
   "metadata": {},
   "outputs": [],
   "source": [
    "def condition_data_on_action(data):\n",
    "    dict = {'left': [], 'left_down': [], 'down': [], 'right_down': [], 'right': [], 'right_up': [], 'up': [], 'left_up': []}\n",
    "\n",
    "    for i in range(data['D'].shape[0]):\n",
    "        if data['D'][i, 4] == -1 and data['D'][i, 5] == 0:\n",
    "            dict['left'].append(np.concatenate([data['D'][i,:4],data['D'][i,6:10]], axis=0)) \n",
    "        elif data['D'][i, 4] == -1 and data['D'][i, 5] == -1:\n",
    "            dict['left_down'].append(np.concatenate([data['D'][i,:4], data['D'][i,6:10]], axis=0))\n",
    "        elif data['D'][i, 4] == 0 and data['D'][i, 5] == -1:\n",
    "            dict['down'].append(np.concatenate([data['D'][i,:4], data['D'][i,6:10]], axis=0))\n",
    "        elif data['D'][i, 4] == 1 and data['D'][i, 5] == -1:\n",
    "            dict['right_down'].append(np.concatenate([data['D'][i,:4], data['D'][i,6:10]], axis=0))\n",
    "        elif data['D'][i, 4] == 1 and data['D'][i, 5] == 0:\n",
    "            dict['right'].append(np.concatenate([data['D'][i,:4], data['D'][i,6:10]], axis=0))\n",
    "        elif data['D'][i, 4] == 1 and data['D'][i, 5] == 1:\n",
    "            dict['right_up'].append(np.concatenate([data['D'][i,:4], data['D'][i,6:10]], axis=0))\n",
    "        elif data['D'][i, 4] == 0 and data['D'][i, 5] == 1:\n",
    "            dict['up'].append(np.concatenate([data['D'][i,:4], data['D'][i,6:10]], axis=0))\n",
    "        elif data['D'][i, 4] == -1 and data['D'][i, 5] == 1:\n",
    "            dict['left_up'].append(np.concatenate([data['D'][i,:4], data['D'][i,6:10]], axis=0))\n",
    "    return dict"
   ]
  },
  {
   "cell_type": "code",
   "execution_count": 120,
   "metadata": {},
   "outputs": [],
   "source": [
    "big_dict = condition_data_on_action(big)\n",
    "small_dict = condition_data_on_action(small)"
   ]
  },
  {
   "cell_type": "code",
   "execution_count": 121,
   "metadata": {},
   "outputs": [
    {
     "name": "stdout",
     "output_type": "stream",
     "text": [
      "left_down\n",
      "(74990, 8)\n",
      "left_up\n",
      "(41628, 8)\n",
      "right_down\n",
      "(45653, 8)\n",
      "down\n",
      "(41646, 8)\n",
      "left\n",
      "(41681, 8)\n",
      "right\n",
      "(43339, 8)\n",
      "up\n",
      "(41254, 8)\n",
      "right_up\n",
      "(80960, 8)\n",
      "411151\n",
      "(411151, 10)\n"
     ]
    }
   ],
   "source": [
    "# sanity check\n",
    "valid_big_dim = 0\n",
    "for key, val in big_dict.items():\n",
    "    print(key)\n",
    "    print(np.array(val).shape)\n",
    "    valid_big_dim += np.array(val).shape[0]\n",
    "print(valid_big_dim)\n",
    "print(big['D'].shape)"
   ]
  },
  {
   "cell_type": "code",
   "execution_count": 122,
   "metadata": {},
   "outputs": [
    {
     "name": "stdout",
     "output_type": "stream",
     "text": [
      "left_down\n",
      "(1026, 8)\n",
      "left_up\n",
      "(285, 8)\n",
      "right_down\n",
      "(829, 8)\n",
      "down\n",
      "(589, 8)\n",
      "left\n",
      "(245, 8)\n",
      "right\n",
      "(579, 8)\n",
      "up\n",
      "(1835, 8)\n",
      "right_up\n",
      "(1156, 8)\n",
      "6544\n",
      "(6544, 10)\n"
     ]
    }
   ],
   "source": [
    "# sanity check\n",
    "valid_small_dim = 0\n",
    "for key, val in small_dict.items():\n",
    "    print(key)\n",
    "    print(np.array(val).shape)\n",
    "    valid_small_dim += np.array(val).shape[0]\n",
    "print(valid_small_dim)\n",
    "print(small['D'].shape)"
   ]
  },
  {
   "cell_type": "code",
   "execution_count": 9,
   "metadata": {},
   "outputs": [
    {
     "data": {
      "text/plain": [
       "(array([158299,      0,      0,      0,      0,  82900,      0,      0,\n",
       "             0, 169952]),\n",
       " array([-1. , -0.8, -0.6, -0.4, -0.2,  0. ,  0.2,  0.4,  0.6,  0.8,  1. ]))"
      ]
     },
     "execution_count": 9,
     "metadata": {},
     "output_type": "execute_result"
    }
   ],
   "source": [
    "np.histogram(big['D'][:, 4]) "
   ]
  },
  {
   "cell_type": "code",
   "execution_count": 6,
   "metadata": {},
   "outputs": [
    {
     "data": {
      "text/html": [
       "<div>\n",
       "<style scoped>\n",
       "    .dataframe tbody tr th:only-of-type {\n",
       "        vertical-align: middle;\n",
       "    }\n",
       "\n",
       "    .dataframe tbody tr th {\n",
       "        vertical-align: top;\n",
       "    }\n",
       "\n",
       "    .dataframe thead th {\n",
       "        text-align: right;\n",
       "    }\n",
       "</style>\n",
       "<table border=\"1\" class=\"dataframe\">\n",
       "  <thead>\n",
       "    <tr style=\"text-align: right;\">\n",
       "      <th></th>\n",
       "      <th>0</th>\n",
       "      <th>1</th>\n",
       "      <th>2</th>\n",
       "      <th>3</th>\n",
       "      <th>4</th>\n",
       "      <th>5</th>\n",
       "      <th>6</th>\n",
       "      <th>7</th>\n",
       "      <th>8</th>\n",
       "      <th>9</th>\n",
       "    </tr>\n",
       "  </thead>\n",
       "  <tbody>\n",
       "    <tr>\n",
       "      <th>0</th>\n",
       "      <td>-0.059364</td>\n",
       "      <td>114.428863</td>\n",
       "      <td>15.969999</td>\n",
       "      <td>15.969999</td>\n",
       "      <td>-1.0</td>\n",
       "      <td>-1.0</td>\n",
       "      <td>-0.083693</td>\n",
       "      <td>114.398494</td>\n",
       "      <td>15.939999</td>\n",
       "      <td>15.939999</td>\n",
       "    </tr>\n",
       "    <tr>\n",
       "      <th>1</th>\n",
       "      <td>-0.083693</td>\n",
       "      <td>114.398494</td>\n",
       "      <td>15.939999</td>\n",
       "      <td>15.939999</td>\n",
       "      <td>-1.0</td>\n",
       "      <td>-1.0</td>\n",
       "      <td>-0.121254</td>\n",
       "      <td>114.377551</td>\n",
       "      <td>15.909998</td>\n",
       "      <td>15.909998</td>\n",
       "    </tr>\n",
       "    <tr>\n",
       "      <th>2</th>\n",
       "      <td>-0.121254</td>\n",
       "      <td>114.377551</td>\n",
       "      <td>15.909998</td>\n",
       "      <td>15.909998</td>\n",
       "      <td>-1.0</td>\n",
       "      <td>-1.0</td>\n",
       "      <td>-0.137358</td>\n",
       "      <td>114.368394</td>\n",
       "      <td>15.879997</td>\n",
       "      <td>15.879997</td>\n",
       "    </tr>\n",
       "    <tr>\n",
       "      <th>3</th>\n",
       "      <td>-0.137358</td>\n",
       "      <td>114.368394</td>\n",
       "      <td>15.879997</td>\n",
       "      <td>15.879997</td>\n",
       "      <td>-1.0</td>\n",
       "      <td>-1.0</td>\n",
       "      <td>-0.153154</td>\n",
       "      <td>114.366211</td>\n",
       "      <td>15.849998</td>\n",
       "      <td>15.849998</td>\n",
       "    </tr>\n",
       "    <tr>\n",
       "      <th>4</th>\n",
       "      <td>-0.153154</td>\n",
       "      <td>114.366211</td>\n",
       "      <td>15.849998</td>\n",
       "      <td>15.849998</td>\n",
       "      <td>-1.0</td>\n",
       "      <td>-1.0</td>\n",
       "      <td>-0.167177</td>\n",
       "      <td>114.388905</td>\n",
       "      <td>15.819997</td>\n",
       "      <td>15.819997</td>\n",
       "    </tr>\n",
       "  </tbody>\n",
       "</table>\n",
       "</div>"
      ],
      "text/plain": [
       "          0           1          2          3    4    5         6           7  \\\n",
       "0 -0.059364  114.428863  15.969999  15.969999 -1.0 -1.0 -0.083693  114.398494   \n",
       "1 -0.083693  114.398494  15.939999  15.939999 -1.0 -1.0 -0.121254  114.377551   \n",
       "2 -0.121254  114.377551  15.909998  15.909998 -1.0 -1.0 -0.137358  114.368394   \n",
       "3 -0.137358  114.368394  15.879997  15.879997 -1.0 -1.0 -0.153154  114.366211   \n",
       "4 -0.153154  114.366211  15.849998  15.849998 -1.0 -1.0 -0.167177  114.388905   \n",
       "\n",
       "           8          9  \n",
       "0  15.939999  15.939999  \n",
       "1  15.909998  15.909998  \n",
       "2  15.879997  15.879997  \n",
       "3  15.849998  15.849998  \n",
       "4  15.819997  15.819997  "
      ]
     },
     "execution_count": 6,
     "metadata": {},
     "output_type": "execute_result"
    }
   ],
   "source": [
    "pd.DataFrame(small['D']).head() "
   ]
  },
  {
   "cell_type": "code",
   "execution_count": 181,
   "metadata": {},
   "outputs": [],
   "source": [
    "def find_linear_transformation(A, B, tolerance=1e-6):\n",
    "    # A = n by m\n",
    "    # B = n by m\n",
    "    # Find T \\in R^{m by m} s.t. T a_i = b_i for d(a_i, b_i) is small for i=1...n\n",
    "    src, dst = A, B\n",
    "    n = A.shape[0]\n",
    "    max_iter = 10\n",
    "    prev_error = 0\n",
    "    for i in range(max_iter):\n",
    "        # find the nearest neighbors between the current source and destination points\n",
    "        #print(src.shape, dst.shape)\n",
    "        distances, indices = nearest_neighbor(src, dst)\n",
    "        # compute the transformation between the current source and nearest destination points\n",
    "        T = best_fit_linear_transform(src, dst[indices, :])\n",
    "        # update the current source \n",
    "        src = np.dot(src, T)  \n",
    "        # check error\n",
    "        mean_error = np.mean(distances)\n",
    "        if np.abs(prev_error - mean_error) < tolerance:\n",
    "            break\n",
    "        prev_error = mean_error\n",
    "    # calculate final transformation\n",
    "    T = best_fit_linear_transform(A, src)\n",
    "    return T, distances "
   ]
  },
  {
   "cell_type": "code",
   "execution_count": 81,
   "metadata": {},
   "outputs": [],
   "source": [
    "def best_fit_linear_transform(A, B):\n",
    "    T_est = np.linalg.pinv(A).dot(B)\n",
    "    return T_est"
   ]
  },
  {
   "cell_type": "code",
   "execution_count": 125,
   "metadata": {},
   "outputs": [],
   "source": [
    "def test_fitting_linear_transform():\n",
    "    m = 4\n",
    "    N = 100  # num samples\n",
    "\n",
    "    rng = np.random.RandomState(42)\n",
    "\n",
    "    W = rng.randn(m, 8)\n",
    "    X = rng.randn(N, m)\n",
    "    Z_clean = X.dot(W)\n",
    "\n",
    "    Z = Z_clean + rng.randn(*Z_clean.shape) * .001\n",
    "\n",
    "    W_est = np.linalg.pinv(X).dot(Z)\n",
    "\n",
    "    print(\"W: {}\".format(W))\n",
    "    print(\"W_est: {}\".format(W_est))"
   ]
  },
  {
   "cell_type": "code",
   "execution_count": 126,
   "metadata": {},
   "outputs": [
    {
     "name": "stdout",
     "output_type": "stream",
     "text": [
      "W: [[ 0.49671415 -0.1382643   0.64768854  1.52302986 -0.23415337 -0.23413696\n",
      "   1.57921282  0.76743473]\n",
      " [-0.46947439  0.54256004 -0.46341769 -0.46572975  0.24196227 -1.91328024\n",
      "  -1.72491783 -0.56228753]\n",
      " [-1.01283112  0.31424733 -0.90802408 -1.4123037   1.46564877 -0.2257763\n",
      "   0.0675282  -1.42474819]\n",
      " [-0.54438272  0.11092259 -1.15099358  0.37569802 -0.60063869 -0.29169375\n",
      "  -0.60170661  1.85227818]]\n",
      "W_est: [[ 0.49684783 -0.13834211  0.64769879  1.52306484 -0.23416831 -0.23406561\n",
      "   1.57917356  0.76728175]\n",
      " [-0.4695567   0.54279454 -0.46335647 -0.46562165  0.24189757 -1.91325259\n",
      "  -1.72474676 -0.56208957]\n",
      " [-1.01282548  0.31422305 -0.90797028 -1.41228736  1.46571876 -0.22583531\n",
      "   0.06749571 -1.424704  ]\n",
      " [-0.54443889  0.11062472 -1.15109093  0.37560542 -0.60059882 -0.29153448\n",
      "  -0.60179033  1.85226932]]\n"
     ]
    }
   ],
   "source": [
    "test_fitting_linear_transform()"
   ]
  },
  {
   "cell_type": "code",
   "execution_count": 112,
   "metadata": {},
   "outputs": [],
   "source": [
    "# Step 1: Normalize the training data\n",
    "def compute_normalization_parameters(data):\n",
    "    \"\"\"\n",
    "    Compute normalization parameters (min, max per feature)\n",
    "    :param data: matrix with data organized by rows [num_samples x num_features]\n",
    "    :return: min and max per feautre as row matrices of dimension [1 x num_variables]\n",
    "    \"\"\"\n",
    "    min_param = np.min(data, axis=0)\n",
    "    max_param = np.max(data, axis=0)\n",
    "    return np.expand_dims(min_param, 0), np.expand_dims(max_param, 0)\n",
    "\n",
    "def normalize_data_per_row(data, min_param, max_param):\n",
    "    \"\"\"\n",
    "    Normalize a given matrix of data (samples must be organized per row)\n",
    "    :param data: input data\n",
    "    :param min_param: min (for each feature) for normalization\n",
    "    :param max_param: max (for each feature) for normalization\n",
    "    :return: normalized data, (data - min_param) / max_param - min_param\n",
    "    \"\"\"\n",
    "    # sanity checks!\n",
    "    assert len(data.shape) == 2, \"Expected the input data to be a 2D matrix\"\n",
    "    assert data.shape[1] == min_param.shape[1], \"Data - min_param size mismatch ({} vs {})\".format(data.shape[1], min_param.shape[1])\n",
    "    assert data.shape[1] == max_param.shape[1], \"Data - max_param size mismatch ({} vs {})\".format(data.shape[1], max_param.shape[1])\n",
    "\n",
    "    # TODO. Complete. Replace the line below with code to whitten the data.\n",
    "    normalized_data = np.divide(data - min_param, max_param - min_param)\n",
    "    mean = np.mean(normalized_data, axis=0)\n",
    "    mean_centered_data = normalized_data - np.expand_dims(mean, 0)\n",
    "    return mean_centered_data"
   ]
  },
  {
   "cell_type": "code",
   "execution_count": 127,
   "metadata": {},
   "outputs": [],
   "source": [
    "def prepare_data(data):\n",
    "    min_param, max_param = compute_normalization_parameters(data)\n",
    "    mean_centered_normalized_data = normalize_data_per_row(data[:,:], min_param, max_param)\n",
    "    return mean_centered_normalized_data"
   ]
  },
  {
   "cell_type": "code",
   "execution_count": 194,
   "metadata": {},
   "outputs": [],
   "source": [
    "def main():\n",
    "    # for each dataset (conditioned on action), find the best linear transformation\n",
    "    # Note that each dataset is mean-centered so I don't need to take care of the translation\n",
    "    np.random.seed(123)\n",
    "    T_dict = {}\n",
    "    for g, gg in zip(big_dict.items(), small_dict.items()):\n",
    "        key_big, val_big = g\n",
    "        key_small, val_small = gg\n",
    "        data_big = np.array(big_dict[key_big])\n",
    "        print(key_big, data_big.shape)\n",
    "        data_small = np.array(small_dict[key_small])\n",
    "        print(key_small, data_small.shape)\n",
    "        data_big = prepare_data(data_big)\n",
    "        data_small = prepare_data(data_small)\n",
    "        print(\"should be zero: {}\".format(np.mean(data_big, axis=0)))\n",
    "        # First partition the big data randomly so that the number of points matches with the small data\n",
    "        # Then feed the two into find_linear_transformation()\n",
    "        # Make sure that I normalized the data first.\n",
    "        random_indices = np.random.permutation(data_big.shape[0])\n",
    "        start = 0\n",
    "        n_count = 0\n",
    "        batch_size = data_small.shape[0]\n",
    "        T_list, dist_list = [], []\n",
    "        while n_count < int(data_big.shape[0] / batch_size)-1:\n",
    "            T, distances = find_linear_transformation(data_big[start:(start+batch_size), :], data_small)\n",
    "            start = start+batch_size+1\n",
    "            T_list.append(T)\n",
    "            dist_list.append(distances)\n",
    "            n_count += 1 \n",
    "        T_list = reject_outliers(T_list, m=2)\n",
    "        T_mean = np.zeros(T_list[0].shape)\n",
    "        for i in range(len(T_list)):\n",
    "            T_mean += T_list[i]\n",
    "        T_mean /= len(T_list)\n",
    "            \n",
    "        T_dict[key_big] = T_mean #, dist_list\n",
    "    return T_dict"
   ]
  },
  {
   "cell_type": "code",
   "execution_count": 193,
   "metadata": {},
   "outputs": [
    {
     "data": {
      "text/plain": [
       "2.0"
      ]
     },
     "execution_count": 193,
     "metadata": {},
     "output_type": "execute_result"
    }
   ],
   "source": []
  },
  {
   "cell_type": "code",
   "execution_count": 173,
   "metadata": {},
   "outputs": [],
   "source": [
    "T_list_new = reject_outliers(T_list, m=2)"
   ]
  },
  {
   "cell_type": "code",
   "execution_count": 174,
   "metadata": {},
   "outputs": [
    {
     "name": "stdout",
     "output_type": "stream",
     "text": [
      "62\n"
     ]
    }
   ],
   "source": [
    "print(len(T_list_new))"
   ]
  },
  {
   "cell_type": "code",
   "execution_count": 171,
   "metadata": {},
   "outputs": [],
   "source": [
    "def reject_outliers(T_list, m = 2.):\n",
    "    norm_arr = np.zeros((len(T_list),))\n",
    "    for i in range(len(T_list)):\n",
    "        norm_arr[i] = np.linalg.norm(T_list[i])\n",
    "    d = np.abs(norm_arr - np.median(norm_arr))\n",
    "    mdev = np.median(d)\n",
    "    s = d/mdev if mdev else 0.\n",
    "    selected_indics = np.where(norm_arr[s<m])[0]\n",
    "    T_list_new = []\n",
    "    for idx in selected_indics:\n",
    "        T_list_new.append(T_list[idx])\n",
    "    return T_list_new"
   ]
  },
  {
   "cell_type": "code",
   "execution_count": null,
   "metadata": {},
   "outputs": [],
   "source": [
    "def reject_outliers(data, m=2):\n",
    "    return data[abs(data - np.mean(data)) < m * np.std(data)]"
   ]
  },
  {
   "cell_type": "code",
   "execution_count": 195,
   "metadata": {},
   "outputs": [
    {
     "name": "stdout",
     "output_type": "stream",
     "text": [
      "left_down (74990, 8)\n",
      "left_down (1026, 8)\n",
      "should be zero: [-1.33895799e-15  7.63428822e-15 -6.19426870e-15 -6.11721635e-15\n",
      " -1.97380450e-15 -2.49142693e-15  9.99695355e-15  1.20831383e-14]\n",
      "left_up (41628, 8)\n",
      "left_up (285, 8)\n",
      "should be zero: [ 9.46471263e-16  1.79726620e-15  1.28308796e-14  4.00287807e-14\n",
      " -5.42328532e-16 -1.53501108e-15  7.19520292e-15 -4.66411152e-15]\n",
      "right_down (45653, 8)\n",
      "right_down (829, 8)\n",
      "should be zero: [-6.03369602e-16 -1.71890627e-15 -3.92717107e-15 -6.06096401e-15\n",
      "  7.79873492e-15 -1.45991665e-15  1.25341779e-15  2.61505515e-15]\n",
      "down (41646, 8)\n",
      "down (589, 8)\n",
      "should be zero: [ 3.42759432e-15 -1.99726312e-15  1.05184941e-14 -3.82475578e-15\n",
      "  3.68881370e-15  6.27308266e-16 -2.88399132e-16  1.63686385e-15]\n",
      "left (41681, 8)\n",
      "left (245, 8)\n",
      "should be zero: [-1.55843818e-15 -2.01253727e-15 -3.96116100e-15  3.56947237e-14\n",
      " -1.87085005e-15 -4.18869799e-15 -9.51937467e-16  3.60133605e-14]\n",
      "right (43339, 8)\n",
      "right (579, 8)\n",
      "should be zero: [ 1.75858364e-15  3.98331032e-15 -4.63501910e-16  7.37947868e-15\n",
      " -3.48293760e-16  2.54309957e-15  5.44070379e-15 -1.97022588e-14]\n",
      "up (41254, 8)\n",
      "up (1835, 8)\n",
      "should be zero: [ 3.68417825e-15 -2.46969319e-15 -7.37905129e-15 -3.02603323e-16\n",
      "  4.21475150e-16  2.43643817e-15 -8.47473920e-15 -3.93982369e-15]\n",
      "right_up (80960, 8)\n",
      "right_up (1156, 8)\n",
      "should be zero: [-5.49691907e-15  2.70442704e-15 -6.16072027e-15 -1.10225290e-15\n",
      " -4.57033401e-15 -6.05578115e-15 -2.42820421e-15  2.77123858e-15]\n"
     ]
    }
   ],
   "source": [
    "T_dict = main() "
   ]
  },
  {
   "cell_type": "code",
   "execution_count": 211,
   "metadata": {},
   "outputs": [
    {
     "name": "stdout",
     "output_type": "stream",
     "text": [
      "(74990, 8)\n",
      "(8, 8)\n",
      "(41628, 8)\n",
      "(8, 8)\n",
      "(45653, 8)\n",
      "(8, 8)\n",
      "(41646, 8)\n",
      "(8, 8)\n",
      "(41681, 8)\n",
      "(8, 8)\n",
      "(43339, 8)\n",
      "(8, 8)\n",
      "(41254, 8)\n",
      "(8, 8)\n",
      "(80960, 8)\n",
      "(8, 8)\n"
     ]
    }
   ],
   "source": [
    "transformed_data_dic = {}\n",
    "for g, gg in zip(T_dict.items(), big_dict.items()):\n",
    "    key_T, val_T = g\n",
    "    key_big, val_big = gg\n",
    "    print(np.array(val_big).shape)\n",
    "    print(val_T.shape)\n",
    "    val_big = prepare_data(np.array(val_big))\n",
    "    transformed_data_dic[key_big] = np.dot(val_big, val_T)"
   ]
  },
  {
   "cell_type": "code",
   "execution_count": 216,
   "metadata": {},
   "outputs": [],
   "source": [
    "import pickle\n",
    "with open('transformed_big_data.pkl', 'wb') as f:\n",
    "    pickle.dump(transformed_data_dic, f)"
   ]
  },
  {
   "cell_type": "code",
   "execution_count": null,
   "metadata": {},
   "outputs": [],
   "source": []
  },
  {
   "cell_type": "code",
   "execution_count": null,
   "metadata": {},
   "outputs": [],
   "source": [
    "import pickle\n",
    "with open('big_data.pkl', 'wb') as f:\n",
    "    pickle.dump(transformed_data_dic, f)"
   ]
  },
  {
   "cell_type": "code",
   "execution_count": 208,
   "metadata": {},
   "outputs": [
    {
     "name": "stdout",
     "output_type": "stream",
     "text": [
      "left_down\n",
      "left_up\n",
      "down\n",
      "right_down\n",
      "left\n",
      "right\n",
      "up\n",
      "right_up\n"
     ]
    }
   ],
   "source": [
    "for key, val in transformed_data_dic.items(): \n",
    "    print(key)"
   ]
  },
  {
   "cell_type": "code",
   "execution_count": 212,
   "metadata": {},
   "outputs": [
    {
     "data": {
      "text/html": [
       "<div>\n",
       "<style scoped>\n",
       "    .dataframe tbody tr th:only-of-type {\n",
       "        vertical-align: middle;\n",
       "    }\n",
       "\n",
       "    .dataframe tbody tr th {\n",
       "        vertical-align: top;\n",
       "    }\n",
       "\n",
       "    .dataframe thead th {\n",
       "        text-align: right;\n",
       "    }\n",
       "</style>\n",
       "<table border=\"1\" class=\"dataframe\">\n",
       "  <thead>\n",
       "    <tr style=\"text-align: right;\">\n",
       "      <th></th>\n",
       "      <th>0</th>\n",
       "      <th>1</th>\n",
       "      <th>2</th>\n",
       "      <th>3</th>\n",
       "      <th>4</th>\n",
       "      <th>5</th>\n",
       "      <th>6</th>\n",
       "      <th>7</th>\n",
       "    </tr>\n",
       "  </thead>\n",
       "  <tbody>\n",
       "    <tr>\n",
       "      <th>0</th>\n",
       "      <td>-0.012900</td>\n",
       "      <td>0.247513</td>\n",
       "      <td>-0.053998</td>\n",
       "      <td>-0.048770</td>\n",
       "      <td>-0.012709</td>\n",
       "      <td>0.248201</td>\n",
       "      <td>-0.053916</td>\n",
       "      <td>-0.048653</td>\n",
       "    </tr>\n",
       "    <tr>\n",
       "      <th>1</th>\n",
       "      <td>-0.013087</td>\n",
       "      <td>0.247720</td>\n",
       "      <td>-0.054207</td>\n",
       "      <td>-0.048850</td>\n",
       "      <td>-0.012895</td>\n",
       "      <td>0.248409</td>\n",
       "      <td>-0.054125</td>\n",
       "      <td>-0.048732</td>\n",
       "    </tr>\n",
       "    <tr>\n",
       "      <th>2</th>\n",
       "      <td>-0.013315</td>\n",
       "      <td>0.248069</td>\n",
       "      <td>-0.054489</td>\n",
       "      <td>-0.048970</td>\n",
       "      <td>-0.013122</td>\n",
       "      <td>0.248759</td>\n",
       "      <td>-0.054407</td>\n",
       "      <td>-0.048851</td>\n",
       "    </tr>\n",
       "    <tr>\n",
       "      <th>3</th>\n",
       "      <td>-0.013437</td>\n",
       "      <td>0.248286</td>\n",
       "      <td>-0.054551</td>\n",
       "      <td>-0.048964</td>\n",
       "      <td>-0.013243</td>\n",
       "      <td>0.248977</td>\n",
       "      <td>-0.054469</td>\n",
       "      <td>-0.048845</td>\n",
       "    </tr>\n",
       "    <tr>\n",
       "      <th>4</th>\n",
       "      <td>-0.013816</td>\n",
       "      <td>0.248783</td>\n",
       "      <td>-0.055124</td>\n",
       "      <td>-0.049253</td>\n",
       "      <td>-0.013622</td>\n",
       "      <td>0.249475</td>\n",
       "      <td>-0.055042</td>\n",
       "      <td>-0.049134</td>\n",
       "    </tr>\n",
       "  </tbody>\n",
       "</table>\n",
       "</div>"
      ],
      "text/plain": [
       "          0         1         2         3         4         5         6  \\\n",
       "0 -0.012900  0.247513 -0.053998 -0.048770 -0.012709  0.248201 -0.053916   \n",
       "1 -0.013087  0.247720 -0.054207 -0.048850 -0.012895  0.248409 -0.054125   \n",
       "2 -0.013315  0.248069 -0.054489 -0.048970 -0.013122  0.248759 -0.054407   \n",
       "3 -0.013437  0.248286 -0.054551 -0.048964 -0.013243  0.248977 -0.054469   \n",
       "4 -0.013816  0.248783 -0.055124 -0.049253 -0.013622  0.249475 -0.055042   \n",
       "\n",
       "          7  \n",
       "0 -0.048653  \n",
       "1 -0.048732  \n",
       "2 -0.048851  \n",
       "3 -0.048845  \n",
       "4 -0.049134  "
      ]
     },
     "execution_count": 212,
     "metadata": {},
     "output_type": "execute_result"
    }
   ],
   "source": [
    "pd.DataFrame(transformed_data_dic['left_down']).head()   "
   ]
  },
  {
   "cell_type": "code",
   "execution_count": 215,
   "metadata": {},
   "outputs": [
    {
     "data": {
      "text/html": [
       "<div>\n",
       "<style scoped>\n",
       "    .dataframe tbody tr th:only-of-type {\n",
       "        vertical-align: middle;\n",
       "    }\n",
       "\n",
       "    .dataframe tbody tr th {\n",
       "        vertical-align: top;\n",
       "    }\n",
       "\n",
       "    .dataframe thead th {\n",
       "        text-align: right;\n",
       "    }\n",
       "</style>\n",
       "<table border=\"1\" class=\"dataframe\">\n",
       "  <thead>\n",
       "    <tr style=\"text-align: right;\">\n",
       "      <th></th>\n",
       "      <th>0</th>\n",
       "      <th>1</th>\n",
       "      <th>2</th>\n",
       "      <th>3</th>\n",
       "      <th>4</th>\n",
       "      <th>5</th>\n",
       "      <th>6</th>\n",
       "      <th>7</th>\n",
       "    </tr>\n",
       "  </thead>\n",
       "  <tbody>\n",
       "    <tr>\n",
       "      <th>0</th>\n",
       "      <td>-0.038787</td>\n",
       "      <td>0.402154</td>\n",
       "      <td>-0.085201</td>\n",
       "      <td>-0.058061</td>\n",
       "      <td>-0.038920</td>\n",
       "      <td>0.402362</td>\n",
       "      <td>-0.085322</td>\n",
       "      <td>-0.058078</td>\n",
       "    </tr>\n",
       "    <tr>\n",
       "      <th>1</th>\n",
       "      <td>-0.038985</td>\n",
       "      <td>0.401507</td>\n",
       "      <td>-0.086395</td>\n",
       "      <td>-0.059353</td>\n",
       "      <td>-0.039226</td>\n",
       "      <td>0.401914</td>\n",
       "      <td>-0.086517</td>\n",
       "      <td>-0.059370</td>\n",
       "    </tr>\n",
       "    <tr>\n",
       "      <th>2</th>\n",
       "      <td>-0.039290</td>\n",
       "      <td>0.401060</td>\n",
       "      <td>-0.087588</td>\n",
       "      <td>-0.060645</td>\n",
       "      <td>-0.039357</td>\n",
       "      <td>0.401719</td>\n",
       "      <td>-0.087711</td>\n",
       "      <td>-0.060662</td>\n",
       "    </tr>\n",
       "    <tr>\n",
       "      <th>3</th>\n",
       "      <td>-0.039421</td>\n",
       "      <td>0.400865</td>\n",
       "      <td>-0.088781</td>\n",
       "      <td>-0.061937</td>\n",
       "      <td>-0.039486</td>\n",
       "      <td>0.401672</td>\n",
       "      <td>-0.088906</td>\n",
       "      <td>-0.061954</td>\n",
       "    </tr>\n",
       "    <tr>\n",
       "      <th>4</th>\n",
       "      <td>-0.039550</td>\n",
       "      <td>0.400818</td>\n",
       "      <td>-0.089975</td>\n",
       "      <td>-0.063229</td>\n",
       "      <td>-0.039600</td>\n",
       "      <td>0.402157</td>\n",
       "      <td>-0.090101</td>\n",
       "      <td>-0.063246</td>\n",
       "    </tr>\n",
       "  </tbody>\n",
       "</table>\n",
       "</div>"
      ],
      "text/plain": [
       "          0         1         2         3         4         5         6  \\\n",
       "0 -0.038787  0.402154 -0.085201 -0.058061 -0.038920  0.402362 -0.085322   \n",
       "1 -0.038985  0.401507 -0.086395 -0.059353 -0.039226  0.401914 -0.086517   \n",
       "2 -0.039290  0.401060 -0.087588 -0.060645 -0.039357  0.401719 -0.087711   \n",
       "3 -0.039421  0.400865 -0.088781 -0.061937 -0.039486  0.401672 -0.088906   \n",
       "4 -0.039550  0.400818 -0.089975 -0.063229 -0.039600  0.402157 -0.090101   \n",
       "\n",
       "          7  \n",
       "0 -0.058078  \n",
       "1 -0.059370  \n",
       "2 -0.060662  \n",
       "3 -0.061954  \n",
       "4 -0.063246  "
      ]
     },
     "execution_count": 215,
     "metadata": {},
     "output_type": "execute_result"
    }
   ],
   "source": [
    "pd.DataFrame(prepare_data(np.array(small_dict['left_down']))).head()"
   ]
  },
  {
   "cell_type": "code",
   "execution_count": null,
   "metadata": {},
   "outputs": [],
   "source": []
  },
  {
   "cell_type": "code",
   "execution_count": 157,
   "metadata": {},
   "outputs": [
    {
     "name": "stdout",
     "output_type": "stream",
     "text": [
      "73\n"
     ]
    }
   ],
   "source": [
    "print(len(T_list))"
   ]
  },
  {
   "cell_type": "code",
   "execution_count": 156,
   "metadata": {},
   "outputs": [
    {
     "name": "stdout",
     "output_type": "stream",
     "text": [
      "0.11564688245775918\n"
     ]
    }
   ],
   "source": [
    "print(np.mean(dist_list[1]))"
   ]
  },
  {
   "cell_type": "code",
   "execution_count": 158,
   "metadata": {},
   "outputs": [
    {
     "data": {
      "text/plain": [
       "array([[ 56,   8,  45,  -3,  56,   8,  45,  -3],\n",
       "       [ 27,  61,  -6, -35,  27,  62,  -6, -35],\n",
       "       [-86, -39, -64,   7, -85, -39, -64,   7],\n",
       "       [ 83,  53,  39, -34,  83,  53,  39, -34],\n",
       "       [-53,  -3, -44,   2, -54,  -3, -44,   2],\n",
       "       [-27, -60,   6,  35, -27, -60,   6,  35],\n",
       "       [ 84,  30,  64,  -6,  84,  30,  64,  -6],\n",
       "       [-82, -45, -38,  34, -82, -45, -38,  34]])"
      ]
     },
     "execution_count": 158,
     "metadata": {},
     "output_type": "execute_result"
    }
   ],
   "source": [
    "T_list[0].astype(int)"
   ]
  },
  {
   "cell_type": "code",
   "execution_count": 159,
   "metadata": {},
   "outputs": [
    {
     "data": {
      "text/plain": [
       "array([[  22,  -74,   -9,  -39,   22,  -74,   -9,  -39],\n",
       "       [  22,  116,  -26,  -49,   22,  116,  -26,  -49],\n",
       "       [ -98, -144,   -4,   88,  -98, -145,   -4,   88],\n",
       "       [ 100,  135,    3,  -92,  100,  135,    4,  -92],\n",
       "       [ -20,   81,   10,   39,  -21,   81,   10,   40],\n",
       "       [ -22, -113,   26,   49,  -22, -113,   26,   49],\n",
       "       [  98,  133,    4,  -89,   98,  133,    4,  -89],\n",
       "       [-100, -125,   -3,   93, -100, -125,   -3,   93]])"
      ]
     },
     "execution_count": 159,
     "metadata": {},
     "output_type": "execute_result"
    }
   ],
   "source": [
    "T_list[1].astype(int)"
   ]
  },
  {
   "cell_type": "code",
   "execution_count": 149,
   "metadata": {},
   "outputs": [
    {
     "data": {
      "text/plain": [
       "(1026,)"
      ]
     },
     "execution_count": 149,
     "metadata": {},
     "output_type": "execute_result"
    }
   ],
   "source": [
    "dist_list[0].shape"
   ]
  },
  {
   "cell_type": "code",
   "execution_count": 160,
   "metadata": {},
   "outputs": [
    {
     "name": "stdout",
     "output_type": "stream",
     "text": [
      "378.1931711608596\n",
      "626.2498990633692\n",
      "409.05100050654016\n",
      "504.85272817436305\n",
      "647.4885426198456\n",
      "702.0825044196896\n",
      "389.94839021392835\n",
      "104.21903990550652\n",
      "300.36183576076826\n",
      "1121.5953784968403\n",
      "636.0193897689768\n",
      "537.0126916049593\n",
      "1125.3410021794934\n",
      "723.4008308048186\n",
      "693.1159767545138\n",
      "172.10715286407472\n",
      "262.6677724088486\n",
      "462.2684985168057\n",
      "193.0577610631587\n",
      "681.5549015756867\n",
      "551.5672459796511\n",
      "552.7202267146204\n",
      "261.82220988608975\n",
      "718.7443329619549\n",
      "672.8507367468026\n",
      "294.09966120492777\n",
      "555.9962214205436\n",
      "543.8115273125966\n",
      "298.07946861729414\n",
      "1648.5617445432495\n",
      "1135.1266640717317\n",
      "612.545256723554\n",
      "90513.41104462631\n",
      "518.9153820286263\n",
      "793.6929647990164\n",
      "514.7461743137429\n",
      "343.8896837926791\n",
      "454.29694379303504\n",
      "1139.2625811004561\n",
      "519.0096682486383\n",
      "2759005.266374381\n",
      "336.9980730861339\n",
      "311.22821158394896\n",
      "1349.6391530064207\n",
      "2240.632647666877\n",
      "419.75648850822273\n",
      "380.32908735317267\n",
      "377.41524823055863\n",
      "407.45759970360285\n",
      "344.792652284508\n",
      "352.3908590109823\n",
      "186.15547936093094\n",
      "286.8633732260509\n",
      "190.74846255996596\n",
      "317.0943008533063\n",
      "199.9263159334292\n",
      "233.99929279714178\n",
      "556.1453482408325\n",
      "186.63653672902768\n",
      "253.5663543040389\n",
      "135.91449212891416\n",
      "418.23390457894294\n",
      "190.32356428814288\n",
      "193.26102519231893\n",
      "344.5703217284632\n",
      "458.3054937538156\n",
      "229.4439101284725\n",
      "238.6646090595856\n",
      "495.7786126675916\n",
      "646.212942066865\n",
      "325.85020553894776\n",
      "273.4031246082307\n",
      "77.43908730191575\n"
     ]
    }
   ],
   "source": [
    "relative_err_test = [] \n",
    "for i in range(len(T_list)-1):\n",
    "    relative_err_test.append(np.linalg.norm(T_list[i] - T_list[i+1]) / np.linalg.norm(T_list[i]))\n",
    "    print(np.linalg.norm(T_list[i]))\n",
    "print(np.array(relative_err_test).mean())"
   ]
  },
  {
   "cell_type": "code",
   "execution_count": 135,
   "metadata": {},
   "outputs": [
    {
     "data": {
      "text/plain": [
       "[1.166134188408563,\n",
       " 1.3150483639629322,\n",
       " 1.7198805816856744,\n",
       " 1.6794788721971006,\n",
       " 1.2402865925053344,\n",
       " 1.2330335143056672,\n",
       " 0.9401510446575505,\n",
       " 3.10896546114857,\n",
       " 4.1149543951468255,\n",
       " 1.2266407427124184,\n",
       " 1.0113425865480716,\n",
       " 2.016089427561995,\n",
       " 1.104972461779321,\n",
       " 1.4267630764899173,\n",
       " 0.9348778239472214,\n",
       " 1.4535353758360978,\n",
       " 2.409782930948377,\n",
       " 0.7911820075682531,\n",
       " 2.3076157288742487,\n",
       " 1.0422701929169131,\n",
       " 1.0215675527237653,\n",
       " 1.1632697452844405,\n",
       " 2.6926145173754445,\n",
       " 1.5993589416969367,\n",
       " 0.8720846476667173,\n",
       " 1.7106055958855346,\n",
       " 1.3997850874621702,\n",
       " 1.3917438214742266,\n",
       " 5.406318081782878,\n",
       " 0.8438614659816267,\n",
       " 0.9953719098514509,\n",
       " 153.68097924797118,\n",
       " 0.9986175403190596,\n",
       " 1.459819083595498,\n",
       " 1.0775264603921813,\n",
       " 1.0038961956051642,\n",
       " 2.0731277452648134,\n",
       " 2.3969707421796382,\n",
       " 1.2155703691787105,\n",
       " 4667.141289698619,\n",
       " 1.0000329400124328,\n",
       " 1.1437400447616766,\n",
       " 4.008155413040423,\n",
       " 1.9313551396256758,\n",
       " 1.0096310183803896,\n",
       " 0.8806437480723049,\n",
       " 1.2669532137936166,\n",
       " 1.4259663753034224,\n",
       " 1.5697931209383145,\n",
       " 1.0476266128081833,\n",
       " 1.2095759621205382,\n",
       " 1.4996652827203296,\n",
       " 1.2798111112760624,\n",
       " 2.459262691378932,\n",
       " 1.0242521000072786,\n",
       " 2.034507442234245,\n",
       " 1.8443453266995615,\n",
       " 1.0353888749050288,\n",
       " 1.3231744842644415,\n",
       " 0.7133066303319078,\n",
       " 3.32640653069973,\n",
       " 0.8784117630526274,\n",
       " 1.2492355999363174,\n",
       " 1.6507658749798926,\n",
       " 1.3293605672087263,\n",
       " 1.1603463909845009,\n",
       " 1.2253412746297636,\n",
       " 1.8753724712128033,\n",
       " 1.4856966125328852,\n",
       " 0.8765554662515691,\n",
       " 1.3417200735407353,\n",
       " 1.8368062844532536]"
      ]
     },
     "execution_count": 135,
     "metadata": {},
     "output_type": "execute_result"
    }
   ],
   "source": [
    "relative_err_test"
   ]
  },
  {
   "cell_type": "code",
   "execution_count": 133,
   "metadata": {},
   "outputs": [
    {
     "data": {
      "text/plain": [
       "710.2483991819145"
      ]
     },
     "execution_count": 133,
     "metadata": {},
     "output_type": "execute_result"
    }
   ],
   "source": [
    "np.linalg.norm(T_list[24])"
   ]
  },
  {
   "cell_type": "code",
   "execution_count": 99,
   "metadata": {},
   "outputs": [
    {
     "name": "stdout",
     "output_type": "stream",
     "text": [
      "24.34825539363365\n"
     ]
    }
   ],
   "source": [
    "print(relative_err_test[24])"
   ]
  },
  {
   "cell_type": "code",
   "execution_count": 134,
   "metadata": {},
   "outputs": [
    {
     "name": "stdout",
     "output_type": "stream",
     "text": [
      "[[  28.98295454   77.27249858   59.9571126    44.33328055   29.23664056\n",
      "    77.46964841   60.48553454   44.60658338]\n",
      " [   9.30080477  -50.68580965   24.92934778   17.26360729    9.63789868\n",
      "   -50.44686135   24.96265005   17.31311699]\n",
      " [  15.21337667  106.19203982  -54.79303955  -77.52089264   14.95889063\n",
      "   106.39974797  -55.06395572  -77.71846148]\n",
      " [ -18.42649537  -84.52687772   32.4454192    54.42465661  -18.09501957\n",
      "   -84.5042169    32.38477732   54.42205497]\n",
      " [ -28.42355841  -78.40117528  -60.29656315  -45.47899289  -28.67441463\n",
      "   -78.59421963  -60.8332148   -45.75356096]\n",
      " [  -9.15087832   50.41428142  -24.63385298  -17.0596753    -9.48759133\n",
      "    50.17573161  -24.66730104  -17.10952413]\n",
      " [ -16.22847466 -104.11833363   55.32169766   79.49455416  -15.97988427\n",
      "  -104.33379844   55.60774912   79.69538041]\n",
      " [  19.55480435   82.82168157  -32.81833066  -56.25797811   19.22689848\n",
      "    82.80564657  -32.7696322   -56.25727578]]\n"
     ]
    }
   ],
   "source": [
    "print(T_list[0] - T_list[1])"
   ]
  },
  {
   "cell_type": "code",
   "execution_count": 12,
   "metadata": {},
   "outputs": [],
   "source": [
    "def best_fit_transform(A, B):\n",
    "    '''\n",
    "    Calculates the least-squares best-fit transform that maps corresponding points A to B in m spatial dimensions\n",
    "    Input:\n",
    "      A: Nxm numpy array of corresponding points\n",
    "      B: Nxm numpy array of corresponding points\n",
    "    Returns:\n",
    "      T: (m+1)x(m+1) homogeneous transformation matrix that maps A on to B\n",
    "      R: mxm rotation matrix\n",
    "      t: mx1 translation vector\n",
    "    '''\n",
    "    assert A.shape == B.shape\n",
    "\n",
    "    # get number of dimensions\n",
    "    m = A.shape[1]\n",
    "\n",
    "    # translate points to their centroids = mean centered\n",
    "    centroid_A = np.mean(A, axis=0) # centroid_A.shape = (m,)\n",
    "    centroid_B = np.mean(B, axis=0)\n",
    "    AA = A - centroid_A\n",
    "    BB = B - centroid_B\n",
    "\n",
    "    # rotation matrix\n",
    "    H = np.dot(AA.T, BB)\n",
    "    U, S, Vt = np.linalg.svd(H) \n",
    "    R = np.dot(Vt.T, U.T)\n",
    "\n",
    "    # special reflection case\n",
    "    if np.linalg.det(R) < 0:\n",
    "       Vt[m-1,:] *= -1\n",
    "       R = np.dot(Vt.T, U.T)\n",
    "\n",
    "    # translation\n",
    "    t = centroid_B.T - np.dot(R,centroid_A.T)\n",
    "\n",
    "    # homogeneous transformation\n",
    "    T = np.identity(m+1)\n",
    "    T[:m, :m] = R\n",
    "    T[:m, m] = t\n",
    "\n",
    "    return T, R, t"
   ]
  },
  {
   "cell_type": "code",
   "execution_count": 55,
   "metadata": {},
   "outputs": [],
   "source": [
    "def nearest_neighbor(src, dst):\n",
    "    '''\n",
    "    Find the nearest (Euclidean) neighbor in dst for each point in src\n",
    "    Input:\n",
    "        src: Nxm array of points\n",
    "        dst: Nxm array of points\n",
    "    Output:\n",
    "        distances: Euclidean distances of the nearest neighbor\n",
    "        indices: dst indices of the nearest neighbor\n",
    "    '''\n",
    "\n",
    "    assert src.shape == dst.shape\n",
    "\n",
    "    neigh = NearestNeighbors(n_neighbors=1)\n",
    "    neigh.fit(dst)\n",
    "    distances, indices = neigh.kneighbors(src, return_distance=True)\n",
    "    return distances.ravel(), indices.ravel()"
   ]
  },
  {
   "cell_type": "code",
   "execution_count": 10,
   "metadata": {},
   "outputs": [],
   "source": [
    "def icp(A, B, init_pose=None, max_iterations=20, tolerance=0.001):\n",
    "    '''\n",
    "    The Iterative Closest Point method: finds best-fit transform that maps points A on to points B\n",
    "    Input:\n",
    "        A: Nxm numpy array of source mD points\n",
    "        B: Nxm numpy array of destination mD point\n",
    "        init_pose: (m+1)x(m+1) homogeneous transformation\n",
    "        max_iterations: exit algorithm after max_iterations\n",
    "        tolerance: convergence criteria\n",
    "    Output:\n",
    "        T: final homogeneous transformation that maps A on to B\n",
    "        distances: Euclidean distances (errors) of the nearest neighbor\n",
    "        i: number of iterations to converge\n",
    "    '''\n",
    "\n",
    "    assert A.shape == B.shape\n",
    "\n",
    "    # get number of dimensions\n",
    "    m = A.shape[1]\n",
    "\n",
    "    # make points homogeneous, copy them to maintain the originals\n",
    "    src = np.ones((m+1,A.shape[0]))\n",
    "    dst = np.ones((m+1,B.shape[0]))\n",
    "    src[:m,:] = np.copy(A.T)\n",
    "    dst[:m,:] = np.copy(B.T)\n",
    "\n",
    "    # apply the initial pose estimation\n",
    "    if init_pose is not None:\n",
    "        src = np.dot(init_pose, src)\n",
    "\n",
    "    prev_error = 0\n",
    "\n",
    "    for i in range(max_iterations):\n",
    "        # find the nearest neighbors between the current source and destination points\n",
    "        distances, indices = nearest_neighbor(src[:m,:].T, dst[:m,:].T)\n",
    "\n",
    "        # compute the transformation between the current source and nearest destination points\n",
    "        T,_,_ = best_fit_transform(src[:m,:].T, dst[:m,indices].T)\n",
    "\n",
    "        # update the current source \n",
    "        src = np.dot(T, src)\n",
    "\n",
    "        # check error\n",
    "        mean_error = np.mean(distances)\n",
    "        if np.abs(prev_error - mean_error) < tolerance:\n",
    "            break\n",
    "        prev_error = mean_error\n",
    "\n",
    "    # calculate final transformation\n",
    "    T,_,_ = best_fit_transform(A, src[:m,:].T)\n",
    "\n",
    "    return T, distances, i"
   ]
  },
  {
   "cell_type": "code",
   "execution_count": 19,
   "metadata": {},
   "outputs": [],
   "source": [
    "reduced_n = small['D'].shape[0]"
   ]
  },
  {
   "cell_type": "code",
   "execution_count": 23,
   "metadata": {},
   "outputs": [
    {
     "name": "stdout",
     "output_type": "stream",
     "text": [
      "(83888, 10) (83888, 10)\n"
     ]
    }
   ],
   "source": [
    "print(big['D'][:reduced_n, :].shape, small['D'].shape)"
   ]
  },
  {
   "cell_type": "code",
   "execution_count": 24,
   "metadata": {},
   "outputs": [
    {
     "name": "stdout",
     "output_type": "stream",
     "text": [
      "107.83271026611328\n"
     ]
    }
   ],
   "source": [
    "# Run ICP\n",
    "start = time.time()\n",
    "T, distances, iterations = icp(big['D'][:reduced_n, :], small['D'], tolerance=0.000001)\n",
    "print(time.time() - start)"
   ]
  },
  {
   "cell_type": "code",
   "execution_count": 18,
   "metadata": {},
   "outputs": [
    {
     "data": {
      "text/plain": [
       "0"
      ]
     },
     "execution_count": 18,
     "metadata": {},
     "output_type": "execute_result"
    }
   ],
   "source": [
    "iterations"
   ]
  },
  {
   "cell_type": "code",
   "execution_count": 26,
   "metadata": {},
   "outputs": [
    {
     "data": {
      "text/plain": [
       "(11, 11)"
      ]
     },
     "execution_count": 26,
     "metadata": {},
     "output_type": "execute_result"
    }
   ],
   "source": [
    "T.shape"
   ]
  },
  {
   "cell_type": "code",
   "execution_count": 29,
   "metadata": {},
   "outputs": [
    {
     "data": {
      "text/plain": [
       "83888"
      ]
     },
     "execution_count": 29,
     "metadata": {},
     "output_type": "execute_result"
    }
   ],
   "source": [
    "big['D'][:reduced_n, :].shape[0]"
   ]
  },
  {
   "cell_type": "code",
   "execution_count": 30,
   "metadata": {},
   "outputs": [],
   "source": [
    "m = big['D'][:reduced_n, :].shape[1]\n",
    "C = np.ones([big['D'][:reduced_n, :].shape[0],m+1])\n",
    "C[:,0:m] = np.copy(big['D'][:reduced_n, :])\n",
    "C = np.dot(T, C.T).T\n",
    "\n",
    "\n",
    "# big['D'][reduced_n:(reduced_n+1), :]"
   ]
  },
  {
   "cell_type": "code",
   "execution_count": 34,
   "metadata": {},
   "outputs": [
    {
     "data": {
      "text/html": [
       "<div>\n",
       "<style scoped>\n",
       "    .dataframe tbody tr th:only-of-type {\n",
       "        vertical-align: middle;\n",
       "    }\n",
       "\n",
       "    .dataframe tbody tr th {\n",
       "        vertical-align: top;\n",
       "    }\n",
       "\n",
       "    .dataframe thead th {\n",
       "        text-align: right;\n",
       "    }\n",
       "</style>\n",
       "<table border=\"1\" class=\"dataframe\">\n",
       "  <thead>\n",
       "    <tr style=\"text-align: right;\">\n",
       "      <th></th>\n",
       "      <th>0</th>\n",
       "      <th>1</th>\n",
       "      <th>2</th>\n",
       "      <th>3</th>\n",
       "      <th>4</th>\n",
       "      <th>5</th>\n",
       "      <th>6</th>\n",
       "      <th>7</th>\n",
       "      <th>8</th>\n",
       "      <th>9</th>\n",
       "    </tr>\n",
       "  </thead>\n",
       "  <tbody>\n",
       "    <tr>\n",
       "      <th>0</th>\n",
       "      <td>0.426909</td>\n",
       "      <td>118.443377</td>\n",
       "      <td>16.000000</td>\n",
       "      <td>16.000000</td>\n",
       "      <td>0.0</td>\n",
       "      <td>0.0</td>\n",
       "      <td>0.418931</td>\n",
       "      <td>118.442513</td>\n",
       "      <td>16.030001</td>\n",
       "      <td>16.030001</td>\n",
       "    </tr>\n",
       "    <tr>\n",
       "      <th>1</th>\n",
       "      <td>0.418931</td>\n",
       "      <td>118.442513</td>\n",
       "      <td>16.030001</td>\n",
       "      <td>16.030001</td>\n",
       "      <td>1.0</td>\n",
       "      <td>1.0</td>\n",
       "      <td>0.404663</td>\n",
       "      <td>118.443087</td>\n",
       "      <td>16.030001</td>\n",
       "      <td>16.030001</td>\n",
       "    </tr>\n",
       "    <tr>\n",
       "      <th>2</th>\n",
       "      <td>0.404663</td>\n",
       "      <td>118.443087</td>\n",
       "      <td>16.030001</td>\n",
       "      <td>16.030001</td>\n",
       "      <td>1.0</td>\n",
       "      <td>1.0</td>\n",
       "      <td>0.396586</td>\n",
       "      <td>118.443348</td>\n",
       "      <td>16.060001</td>\n",
       "      <td>16.060001</td>\n",
       "    </tr>\n",
       "    <tr>\n",
       "      <th>3</th>\n",
       "      <td>0.396586</td>\n",
       "      <td>118.443348</td>\n",
       "      <td>16.060001</td>\n",
       "      <td>16.060001</td>\n",
       "      <td>1.0</td>\n",
       "      <td>1.0</td>\n",
       "      <td>0.391399</td>\n",
       "      <td>118.442141</td>\n",
       "      <td>16.060001</td>\n",
       "      <td>16.060001</td>\n",
       "    </tr>\n",
       "    <tr>\n",
       "      <th>4</th>\n",
       "      <td>0.391399</td>\n",
       "      <td>118.442141</td>\n",
       "      <td>16.060001</td>\n",
       "      <td>16.060001</td>\n",
       "      <td>1.0</td>\n",
       "      <td>1.0</td>\n",
       "      <td>0.384889</td>\n",
       "      <td>118.439220</td>\n",
       "      <td>16.090002</td>\n",
       "      <td>16.090002</td>\n",
       "    </tr>\n",
       "  </tbody>\n",
       "</table>\n",
       "</div>"
      ],
      "text/plain": [
       "          0           1          2          3    4    5         6           7  \\\n",
       "0  0.426909  118.443377  16.000000  16.000000  0.0  0.0  0.418931  118.442513   \n",
       "1  0.418931  118.442513  16.030001  16.030001  1.0  1.0  0.404663  118.443087   \n",
       "2  0.404663  118.443087  16.030001  16.030001  1.0  1.0  0.396586  118.443348   \n",
       "3  0.396586  118.443348  16.060001  16.060001  1.0  1.0  0.391399  118.442141   \n",
       "4  0.391399  118.442141  16.060001  16.060001  1.0  1.0  0.384889  118.439220   \n",
       "\n",
       "           8          9  \n",
       "0  16.030001  16.030001  \n",
       "1  16.030001  16.030001  \n",
       "2  16.060001  16.060001  \n",
       "3  16.060001  16.060001  \n",
       "4  16.090002  16.090002  "
      ]
     },
     "execution_count": 34,
     "metadata": {},
     "output_type": "execute_result"
    }
   ],
   "source": [
    "pd.DataFrame(big['D'][:reduced_n, :]).head()"
   ]
  },
  {
   "cell_type": "code",
   "execution_count": 33,
   "metadata": {},
   "outputs": [
    {
     "data": {
      "text/html": [
       "<div>\n",
       "<style scoped>\n",
       "    .dataframe tbody tr th:only-of-type {\n",
       "        vertical-align: middle;\n",
       "    }\n",
       "\n",
       "    .dataframe tbody tr th {\n",
       "        vertical-align: top;\n",
       "    }\n",
       "\n",
       "    .dataframe thead th {\n",
       "        text-align: right;\n",
       "    }\n",
       "</style>\n",
       "<table border=\"1\" class=\"dataframe\">\n",
       "  <thead>\n",
       "    <tr style=\"text-align: right;\">\n",
       "      <th></th>\n",
       "      <th>0</th>\n",
       "      <th>1</th>\n",
       "      <th>2</th>\n",
       "      <th>3</th>\n",
       "      <th>4</th>\n",
       "      <th>5</th>\n",
       "      <th>6</th>\n",
       "      <th>7</th>\n",
       "      <th>8</th>\n",
       "      <th>9</th>\n",
       "      <th>10</th>\n",
       "    </tr>\n",
       "  </thead>\n",
       "  <tbody>\n",
       "    <tr>\n",
       "      <th>0</th>\n",
       "      <td>0.760110</td>\n",
       "      <td>0.260586</td>\n",
       "      <td>0.300565</td>\n",
       "      <td>54.744640</td>\n",
       "      <td>-14.518222</td>\n",
       "      <td>6.235257</td>\n",
       "      <td>0.717201</td>\n",
       "      <td>0.248920</td>\n",
       "      <td>0.332193</td>\n",
       "      <td>55.724400</td>\n",
       "      <td>1.0</td>\n",
       "    </tr>\n",
       "    <tr>\n",
       "      <th>1</th>\n",
       "      <td>-0.255656</td>\n",
       "      <td>0.135269</td>\n",
       "      <td>0.271478</td>\n",
       "      <td>54.644751</td>\n",
       "      <td>-14.559483</td>\n",
       "      <td>6.299387</td>\n",
       "      <td>-0.237627</td>\n",
       "      <td>0.143635</td>\n",
       "      <td>0.310243</td>\n",
       "      <td>55.845564</td>\n",
       "      <td>1.0</td>\n",
       "    </tr>\n",
       "    <tr>\n",
       "      <th>2</th>\n",
       "      <td>-0.236395</td>\n",
       "      <td>0.144111</td>\n",
       "      <td>0.272911</td>\n",
       "      <td>54.654161</td>\n",
       "      <td>-14.534284</td>\n",
       "      <td>6.316442</td>\n",
       "      <td>-0.258423</td>\n",
       "      <td>0.139153</td>\n",
       "      <td>0.306494</td>\n",
       "      <td>55.857271</td>\n",
       "      <td>1.0</td>\n",
       "    </tr>\n",
       "    <tr>\n",
       "      <th>3</th>\n",
       "      <td>-0.256323</td>\n",
       "      <td>0.138483</td>\n",
       "      <td>0.267491</td>\n",
       "      <td>54.659783</td>\n",
       "      <td>-14.508554</td>\n",
       "      <td>6.332363</td>\n",
       "      <td>-0.239094</td>\n",
       "      <td>0.146890</td>\n",
       "      <td>0.310122</td>\n",
       "      <td>55.863741</td>\n",
       "      <td>1.0</td>\n",
       "    </tr>\n",
       "    <tr>\n",
       "      <th>4</th>\n",
       "      <td>-0.237107</td>\n",
       "      <td>0.144210</td>\n",
       "      <td>0.271107</td>\n",
       "      <td>54.665055</td>\n",
       "      <td>-14.481660</td>\n",
       "      <td>6.346394</td>\n",
       "      <td>-0.259760</td>\n",
       "      <td>0.139293</td>\n",
       "      <td>0.308153</td>\n",
       "      <td>55.868992</td>\n",
       "      <td>1.0</td>\n",
       "    </tr>\n",
       "  </tbody>\n",
       "</table>\n",
       "</div>"
      ],
      "text/plain": [
       "         0         1         2          3          4         5         6   \\\n",
       "0  0.760110  0.260586  0.300565  54.744640 -14.518222  6.235257  0.717201   \n",
       "1 -0.255656  0.135269  0.271478  54.644751 -14.559483  6.299387 -0.237627   \n",
       "2 -0.236395  0.144111  0.272911  54.654161 -14.534284  6.316442 -0.258423   \n",
       "3 -0.256323  0.138483  0.267491  54.659783 -14.508554  6.332363 -0.239094   \n",
       "4 -0.237107  0.144210  0.271107  54.665055 -14.481660  6.346394 -0.259760   \n",
       "\n",
       "         7         8          9    10  \n",
       "0  0.248920  0.332193  55.724400  1.0  \n",
       "1  0.143635  0.310243  55.845564  1.0  \n",
       "2  0.139153  0.306494  55.857271  1.0  \n",
       "3  0.146890  0.310122  55.863741  1.0  \n",
       "4  0.139293  0.308153  55.868992  1.0  "
      ]
     },
     "execution_count": 33,
     "metadata": {},
     "output_type": "execute_result"
    }
   ],
   "source": [
    "pd.DataFrame(C).head() "
   ]
  },
  {
   "cell_type": "code",
   "execution_count": null,
   "metadata": {},
   "outputs": [],
   "source": []
  }
 ],
 "metadata": {
  "kernelspec": {
   "display_name": "Python 3",
   "language": "python",
   "name": "python3"
  },
  "language_info": {
   "codemirror_mode": {
    "name": "ipython",
    "version": 3
   },
   "file_extension": ".py",
   "mimetype": "text/x-python",
   "name": "python",
   "nbconvert_exporter": "python",
   "pygments_lexer": "ipython3",
   "version": "3.5.2"
  }
 },
 "nbformat": 4,
 "nbformat_minor": 2
}
