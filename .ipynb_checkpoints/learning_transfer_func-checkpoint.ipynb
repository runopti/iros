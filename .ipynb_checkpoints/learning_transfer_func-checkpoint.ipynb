{
 "cells": [
  {
   "cell_type": "code",
   "execution_count": 14,
   "metadata": {},
   "outputs": [],
   "source": [
    "import scipy.io as sio\n",
    "import pandas as pd\n",
    "import numpy as np\n",
    "from matplotlib import pyplot as plt\n",
    "import matplotlib\n",
    "from sklearn.neighbors import NearestNeighbors\n",
    "from sklearn.model_selection import train_test_split\n",
    "import pickle\n",
    "import os\n",
    "import time\n",
    "from sklearn.manifold import SpectralEmbedding\n",
    "from sklearn.gaussian_process import GaussianProcessRegressor"
   ]
  },
  {
   "cell_type": "code",
   "execution_count": 4,
   "metadata": {},
   "outputs": [
    {
     "name": "stdout",
     "output_type": "stream",
     "text": [
      "(1616064, 10)\n",
      "          0           1          2          3    4    5         6           7  \\\n",
      "0  0.426909  118.443377  16.000000  16.000000  0.0  0.0  0.418931  118.442513   \n",
      "1  0.418931  118.442513  16.030001  16.030001  1.0  1.0  0.404663  118.443087   \n",
      "2  0.404663  118.443087  16.030001  16.030001  1.0  1.0  0.396586  118.443348   \n",
      "3  0.396586  118.443348  16.060001  16.060001  1.0  1.0  0.391399  118.442141   \n",
      "4  0.391399  118.442141  16.060001  16.060001  1.0  1.0  0.384889  118.439220   \n",
      "\n",
      "           8          9  \n",
      "0  16.030001  16.030001  \n",
      "1  16.030001  16.030001  \n",
      "2  16.060001  16.060001  \n",
      "3  16.060001  16.060001  \n",
      "4  16.090002  16.090002  \n",
      "(83888, 10)\n",
      "          0         1         2          3    4    5         6         7  \\\n",
      "0  0.000215  0.118160 -0.005951  16.030001  1.0 -1.0  0.000233  0.118159   \n",
      "1  0.000233  0.118159 -0.005951  16.030001  1.0 -1.0  0.000257  0.118159   \n",
      "2  0.000257  0.118159 -0.005951  16.060001  1.0 -1.0  0.000295  0.118159   \n",
      "3  0.000295  0.118159 -0.005951  16.060001  1.0 -1.0  0.000334  0.118158   \n",
      "4  0.000334  0.118158 -0.005951  16.090002  1.0 -1.0  0.000384  0.118158   \n",
      "\n",
      "          8          9  \n",
      "0 -0.005951  16.030001  \n",
      "1 -0.005951  16.060001  \n",
      "2 -0.005951  16.060001  \n",
      "3 -0.005951  16.090002  \n",
      "4 -0.005951  16.090002  \n"
     ]
    }
   ],
   "source": [
    "datapath_base = \"/data/yutaro/IROS/\"\n",
    "datapath_big = \"/data/yutaro/IROS/sim_data_full_v11_d4_m1.mat\"\n",
    "datapath_small = \"/data/yutaro/IROS/sim_data_partial_v111_d4_m1.mat\"\n",
    "\n",
    "big = sio.loadmat(datapath_big)\n",
    "print(big['D'].shape)\n",
    "print(pd.DataFrame(big['D']).head())\n",
    "\n",
    "small = sio.loadmat(datapath_small)\n",
    "print(small['D'].shape)\n",
    "print(pd.DataFrame(small['D']).head())"
   ]
  },
  {
   "cell_type": "code",
   "execution_count": 9,
   "metadata": {},
   "outputs": [
    {
     "name": "stdout",
     "output_type": "stream",
     "text": [
      "CPU times: user 3 µs, sys: 0 ns, total: 3 µs\n",
      "Wall time: 6.91 µs\n"
     ]
    },
    {
     "data": {
      "text/plain": [
       "(array([0., 0., 0., ..., 0., 0., 0.]),\n",
       " array([    0,     1,     2, ..., 83885, 83886, 83887]))"
      ]
     },
     "execution_count": 9,
     "metadata": {},
     "output_type": "execute_result"
    }
   ],
   "source": [
    "% time\n",
    "nearest_neighbor(small['D'], small['D'])"
   ]
  },
  {
   "cell_type": "code",
   "execution_count": 8,
   "metadata": {},
   "outputs": [
    {
     "data": {
      "text/plain": [
       "(83888, 10)"
      ]
     },
     "execution_count": 8,
     "metadata": {},
     "output_type": "execute_result"
    }
   ],
   "source": [
    "small['D'].shape"
   ]
  },
  {
   "cell_type": "code",
   "execution_count": 27,
   "metadata": {},
   "outputs": [
    {
     "data": {
      "text/plain": [
       "(10,)"
      ]
     },
     "execution_count": 27,
     "metadata": {},
     "output_type": "execute_result"
    }
   ],
   "source": [
    "np.mean(small['D'], axis=0).shape"
   ]
  },
  {
   "cell_type": "code",
   "execution_count": 12,
   "metadata": {},
   "outputs": [],
   "source": [
    "def best_fit_transform(A, B):\n",
    "    '''\n",
    "    Calculates the least-squares best-fit transform that maps corresponding points A to B in m spatial dimensions\n",
    "    Input:\n",
    "      A: Nxm numpy array of corresponding points\n",
    "      B: Nxm numpy array of corresponding points\n",
    "    Returns:\n",
    "      T: (m+1)x(m+1) homogeneous transformation matrix that maps A on to B\n",
    "      R: mxm rotation matrix\n",
    "      t: mx1 translation vector\n",
    "    '''\n",
    "\n",
    "    assert A.shape == B.shape\n",
    "\n",
    "    # get number of dimensions\n",
    "    m = A.shape[1]\n",
    "\n",
    "    # translate points to their centroids = mean centered\n",
    "    centroid_A = np.mean(A, axis=0) # centroid_A.shape = (m,)\n",
    "    centroid_B = np.mean(B, axis=0)\n",
    "    AA = A - centroid_A\n",
    "    BB = B - centroid_B\n",
    "\n",
    "    # rotation matrix\n",
    "    H = np.dot(AA.T, BB)\n",
    "    U, S, Vt = np.linalg.svd(H) \n",
    "    R = np.dot(Vt.T, U.T)\n",
    "\n",
    "    # special reflection case\n",
    "    if np.linalg.det(R) < 0:\n",
    "       Vt[m-1,:] *= -1\n",
    "       R = np.dot(Vt.T, U.T)\n",
    "\n",
    "    # translation\n",
    "    t = centroid_B.T - np.dot(R,centroid_A.T)\n",
    "\n",
    "    # homogeneous transformation\n",
    "    T = np.identity(m+1)\n",
    "    T[:m, :m] = R\n",
    "    T[:m, m] = t\n",
    "\n",
    "    return T, R, t"
   ]
  },
  {
   "cell_type": "code",
   "execution_count": 2,
   "metadata": {},
   "outputs": [],
   "source": [
    "def nearest_neighbor(src, dst):\n",
    "    '''\n",
    "    Find the nearest (Euclidean) neighbor in dst for each point in src\n",
    "    Input:\n",
    "        src: Nxm array of points\n",
    "        dst: Nxm array of points\n",
    "    Output:\n",
    "        distances: Euclidean distances of the nearest neighbor\n",
    "        indices: dst indices of the nearest neighbor\n",
    "    '''\n",
    "\n",
    "    assert src.shape == dst.shape\n",
    "\n",
    "    neigh = NearestNeighbors(n_neighbors=1)\n",
    "    neigh.fit(dst)\n",
    "    distances, indices = neigh.kneighbors(src, return_distance=True)\n",
    "    return distances.ravel(), indices.ravel()"
   ]
  },
  {
   "cell_type": "code",
   "execution_count": 10,
   "metadata": {},
   "outputs": [],
   "source": [
    "def icp(A, B, init_pose=None, max_iterations=20, tolerance=0.001):\n",
    "    '''\n",
    "    The Iterative Closest Point method: finds best-fit transform that maps points A on to points B\n",
    "    Input:\n",
    "        A: Nxm numpy array of source mD points\n",
    "        B: Nxm numpy array of destination mD point\n",
    "        init_pose: (m+1)x(m+1) homogeneous transformation\n",
    "        max_iterations: exit algorithm after max_iterations\n",
    "        tolerance: convergence criteria\n",
    "    Output:\n",
    "        T: final homogeneous transformation that maps A on to B\n",
    "        distances: Euclidean distances (errors) of the nearest neighbor\n",
    "        i: number of iterations to converge\n",
    "    '''\n",
    "\n",
    "    assert A.shape == B.shape\n",
    "\n",
    "    # get number of dimensions\n",
    "    m = A.shape[1]\n",
    "\n",
    "    # make points homogeneous, copy them to maintain the originals\n",
    "    src = np.ones((m+1,A.shape[0]))\n",
    "    dst = np.ones((m+1,B.shape[0]))\n",
    "    src[:m,:] = np.copy(A.T)\n",
    "    dst[:m,:] = np.copy(B.T)\n",
    "\n",
    "    # apply the initial pose estimation\n",
    "    if init_pose is not None:\n",
    "        src = np.dot(init_pose, src)\n",
    "\n",
    "    prev_error = 0\n",
    "\n",
    "    for i in range(max_iterations):\n",
    "        # find the nearest neighbors between the current source and destination points\n",
    "        distances, indices = nearest_neighbor(src[:m,:].T, dst[:m,:].T)\n",
    "\n",
    "        # compute the transformation between the current source and nearest destination points\n",
    "        T,_,_ = best_fit_transform(src[:m,:].T, dst[:m,indices].T)\n",
    "\n",
    "        # update the current source \n",
    "        src = np.dot(T, src)\n",
    "\n",
    "        # check error\n",
    "        mean_error = np.mean(distances)\n",
    "        if np.abs(prev_error - mean_error) < tolerance:\n",
    "            break\n",
    "        prev_error = mean_error\n",
    "\n",
    "    # calculate final transformation\n",
    "    T,_,_ = best_fit_transform(A, src[:m,:].T)\n",
    "\n",
    "    return T, distances, i"
   ]
  },
  {
   "cell_type": "code",
   "execution_count": 19,
   "metadata": {},
   "outputs": [],
   "source": [
    "reduced_n = small['D'].shape[0]"
   ]
  },
  {
   "cell_type": "code",
   "execution_count": 23,
   "metadata": {},
   "outputs": [
    {
     "name": "stdout",
     "output_type": "stream",
     "text": [
      "(83888, 10) (83888, 10)\n"
     ]
    }
   ],
   "source": [
    "print(big['D'][:reduced_n, :].shape, small['D'].shape)"
   ]
  },
  {
   "cell_type": "code",
   "execution_count": 24,
   "metadata": {},
   "outputs": [
    {
     "name": "stdout",
     "output_type": "stream",
     "text": [
      "107.83271026611328\n"
     ]
    }
   ],
   "source": [
    "# Run ICP\n",
    "start = time.time()\n",
    "T, distances, iterations = icp(big['D'][:reduced_n, :], small['D'], tolerance=0.000001)\n",
    "print(time.time() - start)"
   ]
  },
  {
   "cell_type": "code",
   "execution_count": 18,
   "metadata": {},
   "outputs": [
    {
     "data": {
      "text/plain": [
       "0"
      ]
     },
     "execution_count": 18,
     "metadata": {},
     "output_type": "execute_result"
    }
   ],
   "source": [
    "iterations"
   ]
  },
  {
   "cell_type": "code",
   "execution_count": 26,
   "metadata": {},
   "outputs": [
    {
     "data": {
      "text/plain": [
       "(11, 11)"
      ]
     },
     "execution_count": 26,
     "metadata": {},
     "output_type": "execute_result"
    }
   ],
   "source": [
    "T.shape"
   ]
  },
  {
   "cell_type": "code",
   "execution_count": 29,
   "metadata": {},
   "outputs": [
    {
     "data": {
      "text/plain": [
       "83888"
      ]
     },
     "execution_count": 29,
     "metadata": {},
     "output_type": "execute_result"
    }
   ],
   "source": [
    "big['D'][:reduced_n, :].shape[0]"
   ]
  },
  {
   "cell_type": "code",
   "execution_count": 30,
   "metadata": {},
   "outputs": [],
   "source": [
    "m = big['D'][:reduced_n, :].shape[1]\n",
    "C = np.ones([big['D'][:reduced_n, :].shape[0],m+1])\n",
    "C[:,0:m] = np.copy(big['D'][:reduced_n, :])\n",
    "C = np.dot(T, C.T).T\n",
    "\n",
    "\n",
    "# big['D'][reduced_n:(reduced_n+1), :]"
   ]
  },
  {
   "cell_type": "code",
   "execution_count": 34,
   "metadata": {},
   "outputs": [
    {
     "data": {
      "text/html": [
       "<div>\n",
       "<style scoped>\n",
       "    .dataframe tbody tr th:only-of-type {\n",
       "        vertical-align: middle;\n",
       "    }\n",
       "\n",
       "    .dataframe tbody tr th {\n",
       "        vertical-align: top;\n",
       "    }\n",
       "\n",
       "    .dataframe thead th {\n",
       "        text-align: right;\n",
       "    }\n",
       "</style>\n",
       "<table border=\"1\" class=\"dataframe\">\n",
       "  <thead>\n",
       "    <tr style=\"text-align: right;\">\n",
       "      <th></th>\n",
       "      <th>0</th>\n",
       "      <th>1</th>\n",
       "      <th>2</th>\n",
       "      <th>3</th>\n",
       "      <th>4</th>\n",
       "      <th>5</th>\n",
       "      <th>6</th>\n",
       "      <th>7</th>\n",
       "      <th>8</th>\n",
       "      <th>9</th>\n",
       "    </tr>\n",
       "  </thead>\n",
       "  <tbody>\n",
       "    <tr>\n",
       "      <th>0</th>\n",
       "      <td>0.426909</td>\n",
       "      <td>118.443377</td>\n",
       "      <td>16.000000</td>\n",
       "      <td>16.000000</td>\n",
       "      <td>0.0</td>\n",
       "      <td>0.0</td>\n",
       "      <td>0.418931</td>\n",
       "      <td>118.442513</td>\n",
       "      <td>16.030001</td>\n",
       "      <td>16.030001</td>\n",
       "    </tr>\n",
       "    <tr>\n",
       "      <th>1</th>\n",
       "      <td>0.418931</td>\n",
       "      <td>118.442513</td>\n",
       "      <td>16.030001</td>\n",
       "      <td>16.030001</td>\n",
       "      <td>1.0</td>\n",
       "      <td>1.0</td>\n",
       "      <td>0.404663</td>\n",
       "      <td>118.443087</td>\n",
       "      <td>16.030001</td>\n",
       "      <td>16.030001</td>\n",
       "    </tr>\n",
       "    <tr>\n",
       "      <th>2</th>\n",
       "      <td>0.404663</td>\n",
       "      <td>118.443087</td>\n",
       "      <td>16.030001</td>\n",
       "      <td>16.030001</td>\n",
       "      <td>1.0</td>\n",
       "      <td>1.0</td>\n",
       "      <td>0.396586</td>\n",
       "      <td>118.443348</td>\n",
       "      <td>16.060001</td>\n",
       "      <td>16.060001</td>\n",
       "    </tr>\n",
       "    <tr>\n",
       "      <th>3</th>\n",
       "      <td>0.396586</td>\n",
       "      <td>118.443348</td>\n",
       "      <td>16.060001</td>\n",
       "      <td>16.060001</td>\n",
       "      <td>1.0</td>\n",
       "      <td>1.0</td>\n",
       "      <td>0.391399</td>\n",
       "      <td>118.442141</td>\n",
       "      <td>16.060001</td>\n",
       "      <td>16.060001</td>\n",
       "    </tr>\n",
       "    <tr>\n",
       "      <th>4</th>\n",
       "      <td>0.391399</td>\n",
       "      <td>118.442141</td>\n",
       "      <td>16.060001</td>\n",
       "      <td>16.060001</td>\n",
       "      <td>1.0</td>\n",
       "      <td>1.0</td>\n",
       "      <td>0.384889</td>\n",
       "      <td>118.439220</td>\n",
       "      <td>16.090002</td>\n",
       "      <td>16.090002</td>\n",
       "    </tr>\n",
       "  </tbody>\n",
       "</table>\n",
       "</div>"
      ],
      "text/plain": [
       "          0           1          2          3    4    5         6           7  \\\n",
       "0  0.426909  118.443377  16.000000  16.000000  0.0  0.0  0.418931  118.442513   \n",
       "1  0.418931  118.442513  16.030001  16.030001  1.0  1.0  0.404663  118.443087   \n",
       "2  0.404663  118.443087  16.030001  16.030001  1.0  1.0  0.396586  118.443348   \n",
       "3  0.396586  118.443348  16.060001  16.060001  1.0  1.0  0.391399  118.442141   \n",
       "4  0.391399  118.442141  16.060001  16.060001  1.0  1.0  0.384889  118.439220   \n",
       "\n",
       "           8          9  \n",
       "0  16.030001  16.030001  \n",
       "1  16.030001  16.030001  \n",
       "2  16.060001  16.060001  \n",
       "3  16.060001  16.060001  \n",
       "4  16.090002  16.090002  "
      ]
     },
     "execution_count": 34,
     "metadata": {},
     "output_type": "execute_result"
    }
   ],
   "source": [
    "pd.DataFrame(big['D'][:reduced_n, :]).head()"
   ]
  },
  {
   "cell_type": "code",
   "execution_count": 33,
   "metadata": {},
   "outputs": [
    {
     "data": {
      "text/html": [
       "<div>\n",
       "<style scoped>\n",
       "    .dataframe tbody tr th:only-of-type {\n",
       "        vertical-align: middle;\n",
       "    }\n",
       "\n",
       "    .dataframe tbody tr th {\n",
       "        vertical-align: top;\n",
       "    }\n",
       "\n",
       "    .dataframe thead th {\n",
       "        text-align: right;\n",
       "    }\n",
       "</style>\n",
       "<table border=\"1\" class=\"dataframe\">\n",
       "  <thead>\n",
       "    <tr style=\"text-align: right;\">\n",
       "      <th></th>\n",
       "      <th>0</th>\n",
       "      <th>1</th>\n",
       "      <th>2</th>\n",
       "      <th>3</th>\n",
       "      <th>4</th>\n",
       "      <th>5</th>\n",
       "      <th>6</th>\n",
       "      <th>7</th>\n",
       "      <th>8</th>\n",
       "      <th>9</th>\n",
       "      <th>10</th>\n",
       "    </tr>\n",
       "  </thead>\n",
       "  <tbody>\n",
       "    <tr>\n",
       "      <th>0</th>\n",
       "      <td>0.760110</td>\n",
       "      <td>0.260586</td>\n",
       "      <td>0.300565</td>\n",
       "      <td>54.744640</td>\n",
       "      <td>-14.518222</td>\n",
       "      <td>6.235257</td>\n",
       "      <td>0.717201</td>\n",
       "      <td>0.248920</td>\n",
       "      <td>0.332193</td>\n",
       "      <td>55.724400</td>\n",
       "      <td>1.0</td>\n",
       "    </tr>\n",
       "    <tr>\n",
       "      <th>1</th>\n",
       "      <td>-0.255656</td>\n",
       "      <td>0.135269</td>\n",
       "      <td>0.271478</td>\n",
       "      <td>54.644751</td>\n",
       "      <td>-14.559483</td>\n",
       "      <td>6.299387</td>\n",
       "      <td>-0.237627</td>\n",
       "      <td>0.143635</td>\n",
       "      <td>0.310243</td>\n",
       "      <td>55.845564</td>\n",
       "      <td>1.0</td>\n",
       "    </tr>\n",
       "    <tr>\n",
       "      <th>2</th>\n",
       "      <td>-0.236395</td>\n",
       "      <td>0.144111</td>\n",
       "      <td>0.272911</td>\n",
       "      <td>54.654161</td>\n",
       "      <td>-14.534284</td>\n",
       "      <td>6.316442</td>\n",
       "      <td>-0.258423</td>\n",
       "      <td>0.139153</td>\n",
       "      <td>0.306494</td>\n",
       "      <td>55.857271</td>\n",
       "      <td>1.0</td>\n",
       "    </tr>\n",
       "    <tr>\n",
       "      <th>3</th>\n",
       "      <td>-0.256323</td>\n",
       "      <td>0.138483</td>\n",
       "      <td>0.267491</td>\n",
       "      <td>54.659783</td>\n",
       "      <td>-14.508554</td>\n",
       "      <td>6.332363</td>\n",
       "      <td>-0.239094</td>\n",
       "      <td>0.146890</td>\n",
       "      <td>0.310122</td>\n",
       "      <td>55.863741</td>\n",
       "      <td>1.0</td>\n",
       "    </tr>\n",
       "    <tr>\n",
       "      <th>4</th>\n",
       "      <td>-0.237107</td>\n",
       "      <td>0.144210</td>\n",
       "      <td>0.271107</td>\n",
       "      <td>54.665055</td>\n",
       "      <td>-14.481660</td>\n",
       "      <td>6.346394</td>\n",
       "      <td>-0.259760</td>\n",
       "      <td>0.139293</td>\n",
       "      <td>0.308153</td>\n",
       "      <td>55.868992</td>\n",
       "      <td>1.0</td>\n",
       "    </tr>\n",
       "  </tbody>\n",
       "</table>\n",
       "</div>"
      ],
      "text/plain": [
       "         0         1         2          3          4         5         6   \\\n",
       "0  0.760110  0.260586  0.300565  54.744640 -14.518222  6.235257  0.717201   \n",
       "1 -0.255656  0.135269  0.271478  54.644751 -14.559483  6.299387 -0.237627   \n",
       "2 -0.236395  0.144111  0.272911  54.654161 -14.534284  6.316442 -0.258423   \n",
       "3 -0.256323  0.138483  0.267491  54.659783 -14.508554  6.332363 -0.239094   \n",
       "4 -0.237107  0.144210  0.271107  54.665055 -14.481660  6.346394 -0.259760   \n",
       "\n",
       "         7         8          9    10  \n",
       "0  0.248920  0.332193  55.724400  1.0  \n",
       "1  0.143635  0.310243  55.845564  1.0  \n",
       "2  0.139153  0.306494  55.857271  1.0  \n",
       "3  0.146890  0.310122  55.863741  1.0  \n",
       "4  0.139293  0.308153  55.868992  1.0  "
      ]
     },
     "execution_count": 33,
     "metadata": {},
     "output_type": "execute_result"
    }
   ],
   "source": [
    "pd.DataFrame(C).head() "
   ]
  },
  {
   "cell_type": "code",
   "execution_count": null,
   "metadata": {},
   "outputs": [],
   "source": []
  }
 ],
 "metadata": {
  "kernelspec": {
   "display_name": "Python 3",
   "language": "python",
   "name": "python3"
  },
  "language_info": {
   "codemirror_mode": {
    "name": "ipython",
    "version": 3
   },
   "file_extension": ".py",
   "mimetype": "text/x-python",
   "name": "python",
   "nbconvert_exporter": "python",
   "pygments_lexer": "ipython3",
   "version": "3.5.2"
  }
 },
 "nbformat": 4,
 "nbformat_minor": 2
}
