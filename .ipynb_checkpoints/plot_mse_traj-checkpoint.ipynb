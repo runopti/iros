{
 "cells": [
  {
   "cell_type": "code",
   "execution_count": 1,
   "metadata": {},
   "outputs": [],
   "source": [
    "import matplotlib.pyplot as plt\n",
    "import pickle \n",
    "import numpy as np\n",
    "import seaborn as sns"
   ]
  },
  {
   "cell_type": "code",
   "execution_count": 2,
   "metadata": {},
   "outputs": [],
   "source": [
    "sns.set()"
   ]
  },
  {
   "cell_type": "code",
   "execution_count": 3,
   "metadata": {},
   "outputs": [],
   "source": [
    "with open(\"mse_list_big.pkl\", \"rb\") as f:\n",
    "    big = pickle.load(f)\n",
    "\n",
    "with open(\"mse_list_small.pkl\", \"rb\") as f:\n",
    "    small = pickle.load(f)"
   ]
  },
  {
   "cell_type": "code",
   "execution_count": 4,
   "metadata": {},
   "outputs": [
    {
     "data": {
      "text/plain": [
       "[1.0466643133446624e-07,\n",
       " 0.01258129956359945,\n",
       " 0.023455289780224313,\n",
       " 0.20170125575200232,\n",
       " 0.1941948155994798,\n",
       " 0.014025215470598481,\n",
       " 0.030972001068476914,\n",
       " 0.33152803481126303,\n",
       " 0.5026811965481247,\n",
       " 0.36403771635991494,\n",
       " 0.026600317405846875,\n",
       " 0.30071607070517387,\n",
       " 0.1617065609525321,\n",
       " 0.1417892617879672,\n",
       " 0.019204865268364135,\n",
       " 0.2560449855255707,\n",
       " 0.02084985574109296,\n",
       " 0.01153022289587921,\n",
       " 0.11086278928067025,\n",
       " 0.15266887352984432,\n",
       " 0.5265741809735842,\n",
       " 0.04857216740640932,\n",
       " 0.333252797230503,\n",
       " 0.023102139312101054,\n",
       " 0.04071682169988978,\n",
       " 0.04350119211344266,\n",
       " 0.21804938718164202,\n",
       " 0.13610411231823882,\n",
       " 0.0072824283649872345,\n",
       " 0.15593459383318103,\n",
       " 0.03758595426305524,\n",
       " 0.04730176209112763,\n",
       " 0.12204775448090154,\n",
       " 0.059750953555589056,\n",
       " 0.027074816627557417,\n",
       " 0.026106391666862887,\n",
       " 0.009446231036394222,\n",
       " 0.011618282006026659,\n",
       " 0.02066317461801403,\n",
       " 0.023767150441363658,\n",
       " 0.16024979139059817,\n",
       " 0.19096660723298056,\n",
       " 0.03531038973705486,\n",
       " 0.04073711803127271,\n",
       " 0.01511321943397959,\n",
       " 0.05041924349308441,\n",
       " 0.05671153149372867,\n",
       " 0.1734298406503995,\n",
       " 0.13133624405229605,\n",
       " 0.1653969404446888,\n",
       " 0.08241043272615163,\n",
       " 0.05301752928028318,\n",
       " 0.09037880870008676,\n",
       " 0.008065164024580332,\n",
       " 0.25702849591773835,\n",
       " 0.007622197032733831,\n",
       " 0.034906541131122695,\n",
       " 0.0465986163793158,\n",
       " 0.045376721620673514,\n",
       " 0.43499669655516654,\n",
       " 0.026717815968979215,\n",
       " 0.19005307312730202,\n",
       " 0.34405162042397597,\n",
       " 0.014727066494314486,\n",
       " 0.038913061296985164,\n",
       " 0.011987528805378,\n",
       " 0.06260285983358982,\n",
       " 0.005974567876754559,\n",
       " 0.07471402341877449,\n",
       " 0.19089097286682238,\n",
       " 0.01967177607898816,\n",
       " 0.007603409568547075,\n",
       " 0.1171336392786083,\n",
       " 0.009346371185372414,\n",
       " 0.009598121980815642,\n",
       " 0.005470567679478914,\n",
       " 0.09749376867062495,\n",
       " 0.012386792259643549,\n",
       " 0.14817668627283073,\n",
       " 0.016543769146823695,\n",
       " 0.04998627714621255,\n",
       " 0.03157275714878946,\n",
       " 0.06271307033544704,\n",
       " 0.04350228757128932,\n",
       " 0.01151083159466955,\n",
       " 0.11859242024249161,\n",
       " 0.03360941662714208,\n",
       " 0.028716680001345477,\n",
       " 0.01848437614833319,\n",
       " 0.032977120238016806,\n",
       " 0.04877744749192152,\n",
       " 0.02298785725025684,\n",
       " 0.0018401528939503192,\n",
       " 0.008207828782207776,\n",
       " 0.16353842385808248,\n",
       " 0.016324328588136414,\n",
       " 0.017489515235517145,\n",
       " 0.0736749841516023,\n",
       " 0.0025324014281629687,\n",
       " 0.0059140833309513086]"
      ]
     },
     "execution_count": 4,
     "metadata": {},
     "output_type": "execute_result"
    }
   ],
   "source": [
    "big"
   ]
  },
  {
   "cell_type": "code",
   "execution_count": 5,
   "metadata": {},
   "outputs": [
    {
     "data": {
      "text/plain": [
       "[0.14213220410963776,\n",
       " 0.6750151699103315,\n",
       " 0.38825615930519214,\n",
       " 0.47668081116277367,\n",
       " 0.4037306913621373,\n",
       " 0.7528448611657723,\n",
       " 0.4531231108370947,\n",
       " 0.7259967674570585,\n",
       " 0.7322513388378861,\n",
       " 0.6332647577272262,\n",
       " 0.6915666955086018,\n",
       " 0.4499965303218687,\n",
       " 0.5889363096311245,\n",
       " 0.7326863033087355,\n",
       " 0.6178421008464046,\n",
       " 0.2656558734727324,\n",
       " 0.8104240038806712,\n",
       " 0.8666147058730254,\n",
       " 0.2800591266081195,\n",
       " 0.2997822490962417,\n",
       " 0.7032548815164953,\n",
       " 0.23412964282644358,\n",
       " 0.3116183106773457,\n",
       " 0.779877348487969,\n",
       " 0.7025839411171347,\n",
       " 0.6632051257162626,\n",
       " 0.8587932285482146,\n",
       " 0.7841076559861113,\n",
       " 0.7514183756933287,\n",
       " 0.7319284238737515,\n",
       " 0.9273234153815733,\n",
       " 0.8780587307357841,\n",
       " 0.7785808854961274,\n",
       " 0.44929421306329553,\n",
       " 0.22444491034782882,\n",
       " 0.7399783693461209,\n",
       " 0.4545604052837263,\n",
       " 0.6516863083131432,\n",
       " 0.6501735952040008,\n",
       " 0.6860954803873414,\n",
       " 0.6152604138407239,\n",
       " 0.23493694218565234,\n",
       " 0.7127978502990069,\n",
       " 0.6644370223386122,\n",
       " 0.469131901480767,\n",
       " 0.6091778356845363,\n",
       " 0.8677227158127024,\n",
       " 0.6529899552072878,\n",
       " 0.6183711820418509,\n",
       " 0.5384952008306941,\n",
       " 0.411401455012453,\n",
       " 0.6180229352969671,\n",
       " 0.6153952665968576,\n",
       " 0.7278299184861635,\n",
       " 0.663468992788977,\n",
       " 0.47301907721304165,\n",
       " 0.44737389703603886,\n",
       " 0.6328676018124073,\n",
       " 0.709697298383652,\n",
       " 0.8997137100180412,\n",
       " 0.5559308757575238,\n",
       " 0.6115950545866743,\n",
       " 0.6626961299836193,\n",
       " 0.7464011749238865,\n",
       " 0.4262696478590838,\n",
       " 0.7369978663398149,\n",
       " 0.4748409742990426,\n",
       " 0.5916621691083174,\n",
       " 0.5615690514218987,\n",
       " 0.7296050590735437,\n",
       " 0.45536713554775793,\n",
       " 0.6314165617659002,\n",
       " 0.6573100784529345,\n",
       " 0.26189664126718176,\n",
       " 0.606050581880689,\n",
       " 0.537947905362411,\n",
       " 0.56359801948834,\n",
       " 0.8373819808352932,\n",
       " 0.6241598262850667,\n",
       " 0.6687725322431474,\n",
       " 0.840896630121217,\n",
       " 0.813892797084386,\n",
       " 0.7010725813446048,\n",
       " 0.6733020421295222,\n",
       " 0.5828726263425181,\n",
       " 0.6273342074913746,\n",
       " 0.5543119543562479,\n",
       " 0.2329380330273204,\n",
       " 0.37808216601656675,\n",
       " 0.2626926400431982,\n",
       " 0.6441169404300203,\n",
       " 0.6782317127393828,\n",
       " 0.637293792857766,\n",
       " 0.6019835435490833,\n",
       " 0.6492842619332801,\n",
       " 0.2837869332362255,\n",
       " 0.5376797190621811,\n",
       " 0.6838840317688668,\n",
       " 0.492209710026474,\n",
       " 0.5857081066044163]"
      ]
     },
     "execution_count": 5,
     "metadata": {},
     "output_type": "execute_result"
    }
   ],
   "source": [
    "small"
   ]
  },
  {
   "cell_type": "code",
   "execution_count": 16,
   "metadata": {},
   "outputs": [],
   "source": [
    "a = np.array([[1,2,3,4,5]])\n",
    "b = np.array([[1,2,3,4,5]])"
   ]
  },
  {
   "cell_type": "code",
   "execution_count": 13,
   "metadata": {},
   "outputs": [
    {
     "data": {
      "text/plain": [
       "array([[1, 2, 3, 4, 5]])"
      ]
     },
     "execution_count": 13,
     "metadata": {},
     "output_type": "execute_result"
    }
   ],
   "source": [
    "a"
   ]
  },
  {
   "cell_type": "code",
   "execution_count": 11,
   "metadata": {},
   "outputs": [
    {
     "data": {
      "text/plain": [
       "array([3, 4])"
      ]
     },
     "execution_count": 11,
     "metadata": {},
     "output_type": "execute_result"
    }
   ],
   "source": [
    "a[2:4]"
   ]
  },
  {
   "cell_type": "code",
   "execution_count": 18,
   "metadata": {},
   "outputs": [
    {
     "data": {
      "text/plain": [
       "array([[1, 2, 3, 4, 5, 3, 4]])"
      ]
     },
     "execution_count": 18,
     "metadata": {},
     "output_type": "execute_result"
    }
   ],
   "source": [
    "np.concatenate([b, a[:,2:4]], axis=1)"
   ]
  },
  {
   "cell_type": "code",
   "execution_count": 7,
   "metadata": {},
   "outputs": [
    {
     "data": {
      "image/png": "[encoded data removed]",
      "text/plain": [
       "<Figure size 432x288 with 1 Axes>"
      ]
     },
     "metadata": {},
     "output_type": "display_data"
    }
   ],
   "source": [
    "plt.title('MSE v.s. # transition steps')\n",
    "plt.xlabel('# transition steps')\n",
    "plt.ylabel('MSE')\n",
    "plt.scatter(np.arange(100), big)\n",
    "plt.scatter(np.arange(100), small)\n",
    "plt.show()\n"
   ]
  },
  {
   "cell_type": "code",
   "execution_count": null,
   "metadata": {},
   "outputs": [],
   "source": []
  }
 ],
 "metadata": {
  "kernelspec": {
   "display_name": "Python 3",
   "language": "python",
   "name": "python3"
  },
  "language_info": {
   "codemirror_mode": {
    "name": "ipython",
    "version": 3
   },
   "file_extension": ".py",
   "mimetype": "text/x-python",
   "name": "python",
   "nbconvert_exporter": "python",
   "pygments_lexer": "ipython3",
   "version": "3.5.2"
  }
 },
 "nbformat": 4,
 "nbformat_minor": 2
}
