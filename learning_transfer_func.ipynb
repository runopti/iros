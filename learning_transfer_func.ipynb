{
 "cells": [
  {
   "cell_type": "code",
   "execution_count": 3,
   "metadata": {},
   "outputs": [],
   "source": [
    "import scipy.io as sio\n",
    "import pandas as pd\n",
    "import numpy as np\n",
    "from matplotlib import pyplot as plt\n",
    "import matplotlib\n",
    "from sklearn.neighbors import NearestNeighbors\n",
    "from sklearn.model_selection import train_test_split\n",
    "import pickle\n",
    "import os\n",
    "from sklearn.manifold import SpectralEmbedding\n",
    "from sklearn.gaussian_process import GaussianProcessRegressor"
   ]
  },
  {
   "cell_type": "code",
   "execution_count": 4,
   "metadata": {},
   "outputs": [
    {
     "name": "stdout",
     "output_type": "stream",
     "text": [
      "(1616064, 10)\n",
      "          0           1          2          3    4    5         6           7  \\\n",
      "0  0.426909  118.443377  16.000000  16.000000  0.0  0.0  0.418931  118.442513   \n",
      "1  0.418931  118.442513  16.030001  16.030001  1.0  1.0  0.404663  118.443087   \n",
      "2  0.404663  118.443087  16.030001  16.030001  1.0  1.0  0.396586  118.443348   \n",
      "3  0.396586  118.443348  16.060001  16.060001  1.0  1.0  0.391399  118.442141   \n",
      "4  0.391399  118.442141  16.060001  16.060001  1.0  1.0  0.384889  118.439220   \n",
      "\n",
      "           8          9  \n",
      "0  16.030001  16.030001  \n",
      "1  16.030001  16.030001  \n",
      "2  16.060001  16.060001  \n",
      "3  16.060001  16.060001  \n",
      "4  16.090002  16.090002  \n",
      "(83888, 10)\n",
      "          0         1         2          3    4    5         6         7  \\\n",
      "0  0.000215  0.118160 -0.005951  16.030001  1.0 -1.0  0.000233  0.118159   \n",
      "1  0.000233  0.118159 -0.005951  16.030001  1.0 -1.0  0.000257  0.118159   \n",
      "2  0.000257  0.118159 -0.005951  16.060001  1.0 -1.0  0.000295  0.118159   \n",
      "3  0.000295  0.118159 -0.005951  16.060001  1.0 -1.0  0.000334  0.118158   \n",
      "4  0.000334  0.118158 -0.005951  16.090002  1.0 -1.0  0.000384  0.118158   \n",
      "\n",
      "          8          9  \n",
      "0 -0.005951  16.030001  \n",
      "1 -0.005951  16.060001  \n",
      "2 -0.005951  16.060001  \n",
      "3 -0.005951  16.090002  \n",
      "4 -0.005951  16.090002  \n"
     ]
    }
   ],
   "source": [
    "datapath_base = \"/data/yutaro/IROS/\"\n",
    "datapath_big = \"/data/yutaro/IROS/sim_data_full_v11_d4_m1.mat\"\n",
    "datapath_small = \"/data/yutaro/IROS/sim_data_partial_v111_d4_m1.mat\"\n",
    "\n",
    "big = sio.loadmat(datapath_big)\n",
    "print(big['D'].shape)\n",
    "print(pd.DataFrame(big['D']).head())\n",
    "\n",
    "small = sio.loadmat(datapath_small)\n",
    "print(small['D'].shape)\n",
    "print(pd.DataFrame(small['D']).head())"
   ]
  },
  {
   "cell_type": "code",
   "execution_count": null,
   "metadata": {},
   "outputs": [],
   "source": []
  }
 ],
 "metadata": {
  "kernelspec": {
   "display_name": "Python 3",
   "language": "python",
   "name": "python3"
  },
  "language_info": {
   "codemirror_mode": {
    "name": "ipython",
    "version": 3
   },
   "file_extension": ".py",
   "mimetype": "text/x-python",
   "name": "python",
   "nbconvert_exporter": "python",
   "pygments_lexer": "ipython3",
   "version": "3.5.2"
  }
 },
 "nbformat": 4,
 "nbformat_minor": 2
}
